{
 "cells": [
  {
   "cell_type": "code",
   "execution_count": 86,
   "id": "81f93806",
   "metadata": {},
   "outputs": [],
   "source": [
    "import math\n",
    "import numpy as np\n",
    "import matplotlib.pyplot as plt\n",
    "\n",
    "%matplotlib inline"
   ]
  },
  {
   "cell_type": "code",
   "execution_count": 87,
   "id": "fda4aa2b",
   "metadata": {},
   "outputs": [],
   "source": [
    "from graphviz import Digraph\n",
    "\n",
    "def draw_dot(root):\n",
    "    def trace(root):\n",
    "        # builds a set of all nodes and edges in a graph\n",
    "        nodes, edges = set(), set()\n",
    "\n",
    "        def build(root):\n",
    "            if root not in nodes:\n",
    "                nodes.add(root)\n",
    "                for child in root.prev:\n",
    "                    edges.add((child, root))\n",
    "                    build(child)\n",
    "\n",
    "        build(root)\n",
    "        return nodes, edges\n",
    "\n",
    "    dot = Digraph(graph_attr={'rankdir': 'LR'}, format='svg')\n",
    "\n",
    "    nodes, edges = trace(root)\n",
    "    for node in nodes:\n",
    "        uid = str(id(node))\n",
    "        # for any value in the graph, create a rectangular ('record') node for it\n",
    "        dot.node(name=uid,\n",
    "                 label=\"{ %s | data=%0.4f | grad=%0.4f}\" % (\n",
    "                     node.name, node.val, node.grad),\n",
    "                 shape='record')\n",
    "\n",
    "        if node.op:\n",
    "            # if this value is a result of some operation, create an op node for it\n",
    "            dot.node(name=uid + node.op, label=node.op)\n",
    "            # and connect this node to it\n",
    "            dot.edge(uid + node.op, uid)\n",
    "\n",
    "    for n1, n2 in edges:\n",
    "        # connect n1 to the op node of n2\n",
    "        dot.edge(str(id(n1)), str(id(n2)) + n2.op)\n",
    "\n",
    "    return dot\n"
   ]
  },
  {
   "cell_type": "code",
   "execution_count": 88,
   "id": "c4282b12",
   "metadata": {},
   "outputs": [],
   "source": [
    "from __future__ import annotations\n",
    "from cmath import isfinite\n",
    "from typing import List, Union\n",
    "import uuid\n",
    "\n",
    "\n",
    "class Scalar:\n",
    "    def __init__(self,\n",
    "                 val: Union[float, int],\n",
    "                 name: str = '',\n",
    "                 prev: tuple[Scalar] = (),\n",
    "                 op: str = '') -> None:\n",
    "\n",
    "        assert isinstance(\n",
    "            val, (float, int)), \"val must be a float or an integer\"\n",
    "\n",
    "        self.val = val\n",
    "        self.name = name\n",
    "        self.prev = set(prev)\n",
    "        self.op = op\n",
    "        self.grad = 0.0\n",
    "        self._backward = lambda: None\n",
    "\n",
    "    def exp(self) -> Scalar:\n",
    "        x = self.val\n",
    "        output = Scalar(math.exp(x), prev=(self, ), op='exp')\n",
    "        \n",
    "        def _backward():\n",
    "            self.grad += output.val * output.grad\n",
    "        output._backward = _backward\n",
    "\n",
    "        return output\n",
    "\n",
    "    def tanh(self) -> Scalar:\n",
    "        x = self.val\n",
    "        tanh = (math.exp(2*x) - 1) / (math.exp(2*x) + 1)\n",
    "        output = Scalar(tanh, prev=(self, ), op='tanh')\n",
    "\n",
    "        def _backward():\n",
    "            self.grad += (1.0 - tanh**2) * output.grad\n",
    "        output._backward = _backward \n",
    "\n",
    "        return output \n",
    "\n",
    "    def backward(self) -> None:\n",
    "        topo = []\n",
    "        visited = set()\n",
    "\n",
    "        def build_topo(v):\n",
    "            if v not in visited:\n",
    "                visited.add(v)\n",
    "                for child in v.prev:\n",
    "                    build_topo(child)\n",
    "                topo.append(v)\n",
    "        build_topo(self)\n",
    "\n",
    "        self.grad = 1.0\n",
    "        for node in reversed(topo):\n",
    "            node._backward()\n",
    "\n",
    "    def __add__(self, other) -> Scalar:\n",
    "        other = other if isinstance(other, Scalar) else Scalar(other)\n",
    "        output = Scalar(self.val + other.val, prev=(self, other), op='+')\n",
    "\n",
    "        def _backward():\n",
    "            self.grad += 1.0 * output.grad\n",
    "            other.grad += 1.0 * output.grad\n",
    "        output._backward = _backward \n",
    "\n",
    "        return output\n",
    "\n",
    "    def __mul__(self, other) -> Scalar:\n",
    "        other = other if isinstance(other, Scalar) else Scalar(other)\n",
    "        output = Scalar(self.val * other.val, prev=(self, other), op='*')\n",
    "\n",
    "        def _backward():\n",
    "            self.grad += other.val * output.grad\n",
    "            other.grad += self.val * output.grad\n",
    "        output._backward = _backward \n",
    "\n",
    "        return output \n",
    "\n",
    "    def __radd__(self, other) -> Scalar:\n",
    "        return self + other\n",
    "\n",
    "    def __rmul__(self, other) -> Scalar:\n",
    "        return self * other\n",
    "\n",
    "    def __neg__(self) -> Scalar:\n",
    "        return self * -1\n",
    "\n",
    "    def __sub__(self, other) -> Scalar:\n",
    "        return self + (-other)\n",
    "\n",
    "    def __rsub__(self, other) -> Scalar:\n",
    "        return other + (-self)\n",
    "\n",
    "    def __pow__(self, other) -> Scalar:\n",
    "        assert isinstance(\n",
    "            other, (float, int)), 'class Scalar can only be raised by the power of an integer or a float'\n",
    "        \n",
    "        output = Scalar(self.val ** other, prev=(self, ), op=f'**{other}')\n",
    "\n",
    "        def _backward():\n",
    "            self.grad += other * self.val ** (other - 1) * output.grad\n",
    "        output._backward = _backward\n",
    "\n",
    "        return output \n",
    "\n",
    "    def __truediv__(self, other) -> Scalar:\n",
    "        return self * other ** -1\n",
    "\n",
    "    def __rtruediv__(self, other) -> Scalar:\n",
    "        return other * self ** -1\n",
    "\n",
    "    def __repr__(self) -> str:\n",
    "        return f'Scalar(val={self.val:0.4f}, grad={self.grad:0.4f})'\n"
   ]
  },
  {
   "cell_type": "code",
   "execution_count": 89,
   "id": "78a37edf",
   "metadata": {},
   "outputs": [
    {
     "data": {
      "image/svg+xml": "<?xml version=\"1.0\" encoding=\"UTF-8\" standalone=\"no\"?>\n<!DOCTYPE svg PUBLIC \"-//W3C//DTD SVG 1.1//EN\"\n \"http://www.w3.org/Graphics/SVG/1.1/DTD/svg11.dtd\">\n<!-- Generated by graphviz version 2.50.0 (0)\n -->\n<!-- Pages: 1 -->\n<svg width=\"3579pt\" height=\"210pt\"\n viewBox=\"0.00 0.00 3578.60 210.00\" xmlns=\"http://www.w3.org/2000/svg\" xmlns:xlink=\"http://www.w3.org/1999/xlink\">\n<g id=\"graph0\" class=\"graph\" transform=\"scale(1 1) rotate(0) translate(4 206)\">\n<polygon fill=\"white\" stroke=\"transparent\" points=\"-4,4 -4,-206 3574.6,-206 3574.6,4 -4,4\"/>\n<!-- 140037631309328 -->\n<g id=\"node1\" class=\"node\">\n<title>140037631309328</title>\n<polygon fill=\"none\" stroke=\"black\" points=\"2023.1,-136.5 2023.1,-172.5 2269.1,-172.5 2269.1,-136.5 2023.1,-136.5\"/>\n<text text-anchor=\"middle\" x=\"2033.6\" y=\"-150.8\" font-family=\"Times,serif\" font-size=\"14.00\"> </text>\n<polyline fill=\"none\" stroke=\"black\" points=\"2044.1,-136.5 2044.1,-172.5 \"/>\n<text text-anchor=\"middle\" x=\"2101.1\" y=\"-150.8\" font-family=\"Times,serif\" font-size=\"14.00\">data=&#45;1.0000</text>\n<polyline fill=\"none\" stroke=\"black\" points=\"2158.1,-136.5 2158.1,-172.5 \"/>\n<text text-anchor=\"middle\" x=\"2213.6\" y=\"-150.8\" font-family=\"Times,serif\" font-size=\"14.00\">grad=0.1464</text>\n</g>\n<!-- 140037631309280+ -->\n<g id=\"node18\" class=\"node\">\n<title>140037631309280+</title>\n<ellipse fill=\"none\" stroke=\"black\" cx=\"2332.6\" cy=\"-126.5\" rx=\"27\" ry=\"18\"/>\n<text text-anchor=\"middle\" x=\"2332.6\" y=\"-122.8\" font-family=\"Times,serif\" font-size=\"14.00\">+</text>\n</g>\n<!-- 140037631309328&#45;&gt;140037631309280+ -->\n<g id=\"edge20\" class=\"edge\">\n<title>140037631309328&#45;&gt;140037631309280+</title>\n<path fill=\"none\" stroke=\"black\" d=\"M2265.77,-136.49C2276.63,-134.84 2286.95,-133.27 2296.07,-131.89\"/>\n<polygon fill=\"black\" stroke=\"black\" points=\"2296.82,-135.32 2306.18,-130.36 2295.77,-128.4 2296.82,-135.32\"/>\n</g>\n<!-- 140037631309856 -->\n<g id=\"node2\" class=\"node\">\n<title>140037631309856</title>\n<polygon fill=\"none\" stroke=\"black\" points=\"2956.6,-57.5 2956.6,-93.5 3198.6,-93.5 3198.6,-57.5 2956.6,-57.5\"/>\n<text text-anchor=\"middle\" x=\"2967.1\" y=\"-71.8\" font-family=\"Times,serif\" font-size=\"14.00\"> </text>\n<polyline fill=\"none\" stroke=\"black\" points=\"2977.6,-57.5 2977.6,-93.5 \"/>\n<text text-anchor=\"middle\" x=\"3032.6\" y=\"-71.8\" font-family=\"Times,serif\" font-size=\"14.00\">data=0.1464</text>\n<polyline fill=\"none\" stroke=\"black\" points=\"3087.6,-57.5 3087.6,-93.5 \"/>\n<text text-anchor=\"middle\" x=\"3143.1\" y=\"-71.8\" font-family=\"Times,serif\" font-size=\"14.00\">grad=4.8284</text>\n</g>\n<!-- 140037631308368* -->\n<g id=\"node7\" class=\"node\">\n<title>140037631308368*</title>\n<ellipse fill=\"none\" stroke=\"black\" cx=\"3261.6\" cy=\"-98.5\" rx=\"27\" ry=\"18\"/>\n<text text-anchor=\"middle\" x=\"3261.6\" y=\"-94.8\" font-family=\"Times,serif\" font-size=\"14.00\">*</text>\n</g>\n<!-- 140037631309856&#45;&gt;140037631308368* -->\n<g id=\"edge14\" class=\"edge\">\n<title>140037631309856&#45;&gt;140037631308368*</title>\n<path fill=\"none\" stroke=\"black\" d=\"M3198.72,-90.68C3207.94,-91.85 3216.7,-92.95 3224.59,-93.95\"/>\n<polygon fill=\"black\" stroke=\"black\" points=\"3224.39,-97.45 3234.75,-95.23 3225.27,-90.51 3224.39,-97.45\"/>\n</g>\n<!-- 140037631309856**&#45;1 -->\n<g id=\"node3\" class=\"node\">\n<title>140037631309856**&#45;1</title>\n<ellipse fill=\"none\" stroke=\"black\" cx=\"2799.6\" cy=\"-71.5\" rx=\"28.7\" ry=\"18\"/>\n<text text-anchor=\"middle\" x=\"2799.6\" y=\"-67.8\" font-family=\"Times,serif\" font-size=\"14.00\">**&#45;1</text>\n</g>\n<!-- 140037631309856**&#45;1&#45;&gt;140037631309856 -->\n<g id=\"edge1\" class=\"edge\">\n<title>140037631309856**&#45;1&#45;&gt;140037631309856</title>\n<path fill=\"none\" stroke=\"black\" d=\"M2828.32,-71.9C2856.41,-72.31 2901.93,-72.97 2946.38,-73.61\"/>\n<polygon fill=\"black\" stroke=\"black\" points=\"2946.39,-77.11 2956.44,-73.76 2946.49,-70.11 2946.39,-77.11\"/>\n</g>\n<!-- 140037631764512 -->\n<g id=\"node4\" class=\"node\">\n<title>140037631764512</title>\n<polygon fill=\"none\" stroke=\"black\" points=\"1654,-81.5 1654,-117.5 1896,-117.5 1896,-81.5 1654,-81.5\"/>\n<text text-anchor=\"middle\" x=\"1664.5\" y=\"-95.8\" font-family=\"Times,serif\" font-size=\"14.00\"> </text>\n<polyline fill=\"none\" stroke=\"black\" points=\"1675,-81.5 1675,-117.5 \"/>\n<text text-anchor=\"middle\" x=\"1730\" y=\"-95.8\" font-family=\"Times,serif\" font-size=\"14.00\">data=1.7627</text>\n<polyline fill=\"none\" stroke=\"black\" points=\"1785,-81.5 1785,-117.5 \"/>\n<text text-anchor=\"middle\" x=\"1840.5\" y=\"-95.8\" font-family=\"Times,serif\" font-size=\"14.00\">grad=0.2500</text>\n</g>\n<!-- 140037631310192exp -->\n<g id=\"node23\" class=\"node\">\n<title>140037631310192exp</title>\n<ellipse fill=\"none\" stroke=\"black\" cx=\"1959.3\" cy=\"-99.5\" rx=\"27.1\" ry=\"18\"/>\n<text text-anchor=\"middle\" x=\"1959.3\" y=\"-95.8\" font-family=\"Times,serif\" font-size=\"14.00\">exp</text>\n</g>\n<!-- 140037631764512&#45;&gt;140037631310192exp -->\n<g id=\"edge15\" class=\"edge\">\n<title>140037631764512&#45;&gt;140037631310192exp</title>\n<path fill=\"none\" stroke=\"black\" d=\"M1896.07,-99.5C1905.24,-99.5 1913.97,-99.5 1921.84,-99.5\"/>\n<polygon fill=\"black\" stroke=\"black\" points=\"1921.99,-103 1931.99,-99.5 1921.99,-96 1921.99,-103\"/>\n</g>\n<!-- 140037631764512* -->\n<g id=\"node5\" class=\"node\">\n<title>140037631764512*</title>\n<ellipse fill=\"none\" stroke=\"black\" cx=\"1591\" cy=\"-99.5\" rx=\"27\" ry=\"18\"/>\n<text text-anchor=\"middle\" x=\"1591\" y=\"-95.8\" font-family=\"Times,serif\" font-size=\"14.00\">*</text>\n</g>\n<!-- 140037631764512*&#45;&gt;140037631764512 -->\n<g id=\"edge2\" class=\"edge\">\n<title>140037631764512*&#45;&gt;140037631764512</title>\n<path fill=\"none\" stroke=\"black\" d=\"M1618.08,-99.5C1625.59,-99.5 1634.34,-99.5 1643.78,-99.5\"/>\n<polygon fill=\"black\" stroke=\"black\" points=\"1643.85,-103 1653.85,-99.5 1643.85,-96 1643.85,-103\"/>\n</g>\n<!-- 140037631308368 -->\n<g id=\"node6\" class=\"node\">\n<title>140037631308368</title>\n<polygon fill=\"none\" stroke=\"black\" points=\"3324.6,-80.5 3324.6,-116.5 3570.6,-116.5 3570.6,-80.5 3324.6,-80.5\"/>\n<text text-anchor=\"middle\" x=\"3337.1\" y=\"-94.8\" font-family=\"Times,serif\" font-size=\"14.00\">o</text>\n<polyline fill=\"none\" stroke=\"black\" points=\"3349.6,-80.5 3349.6,-116.5 \"/>\n<text text-anchor=\"middle\" x=\"3404.6\" y=\"-94.8\" font-family=\"Times,serif\" font-size=\"14.00\">data=0.7071</text>\n<polyline fill=\"none\" stroke=\"black\" points=\"3459.6,-80.5 3459.6,-116.5 \"/>\n<text text-anchor=\"middle\" x=\"3515.1\" y=\"-94.8\" font-family=\"Times,serif\" font-size=\"14.00\">grad=1.0000</text>\n</g>\n<!-- 140037631308368*&#45;&gt;140037631308368 -->\n<g id=\"edge3\" class=\"edge\">\n<title>140037631308368*&#45;&gt;140037631308368</title>\n<path fill=\"none\" stroke=\"black\" d=\"M3288.96,-98.5C3296.33,-98.5 3304.87,-98.5 3314.09,-98.5\"/>\n<polygon fill=\"black\" stroke=\"black\" points=\"3314.34,-102 3324.34,-98.5 3314.34,-95 3314.34,-102\"/>\n</g>\n<!-- 140037631309904 -->\n<g id=\"node8\" class=\"node\">\n<title>140037631309904</title>\n<polygon fill=\"none\" stroke=\"black\" points=\"2395.6,-53.5 2395.6,-89.5 2642.6,-89.5 2642.6,-53.5 2395.6,-53.5\"/>\n<text text-anchor=\"middle\" x=\"2406.1\" y=\"-67.8\" font-family=\"Times,serif\" font-size=\"14.00\"> </text>\n<polyline fill=\"none\" stroke=\"black\" points=\"2416.6,-53.5 2416.6,-89.5 \"/>\n<text text-anchor=\"middle\" x=\"2471.6\" y=\"-67.8\" font-family=\"Times,serif\" font-size=\"14.00\">data=6.8284</text>\n<polyline fill=\"none\" stroke=\"black\" points=\"2526.6,-53.5 2526.6,-89.5 \"/>\n<text text-anchor=\"middle\" x=\"2584.6\" y=\"-67.8\" font-family=\"Times,serif\" font-size=\"14.00\">grad=&#45;0.1036</text>\n</g>\n<!-- 140037631309904&#45;&gt;140037631309856**&#45;1 -->\n<g id=\"edge11\" class=\"edge\">\n<title>140037631309904&#45;&gt;140037631309856**&#45;1</title>\n<path fill=\"none\" stroke=\"black\" d=\"M2642.65,-71.5C2685.34,-71.5 2730.15,-71.5 2760.73,-71.5\"/>\n<polygon fill=\"black\" stroke=\"black\" points=\"2760.92,-75 2770.92,-71.5 2760.92,-68 2760.92,-75\"/>\n</g>\n<!-- 140037631309904+ -->\n<g id=\"node9\" class=\"node\">\n<title>140037631309904+</title>\n<ellipse fill=\"none\" stroke=\"black\" cx=\"2332.6\" cy=\"-71.5\" rx=\"27\" ry=\"18\"/>\n<text text-anchor=\"middle\" x=\"2332.6\" y=\"-67.8\" font-family=\"Times,serif\" font-size=\"14.00\">+</text>\n</g>\n<!-- 140037631309904+&#45;&gt;140037631309904 -->\n<g id=\"edge4\" class=\"edge\">\n<title>140037631309904+&#45;&gt;140037631309904</title>\n<path fill=\"none\" stroke=\"black\" d=\"M2359.64,-71.5C2367.16,-71.5 2375.92,-71.5 2385.39,-71.5\"/>\n<polygon fill=\"black\" stroke=\"black\" points=\"2385.49,-75 2395.49,-71.5 2385.49,-68 2385.49,-75\"/>\n</g>\n<!-- 140037631765616 -->\n<g id=\"node10\" class=\"node\">\n<title>140037631765616</title>\n<polygon fill=\"none\" stroke=\"black\" points=\"1283.5,-109.5 1283.5,-145.5 1525.5,-145.5 1525.5,-109.5 1283.5,-109.5\"/>\n<text text-anchor=\"middle\" x=\"1294\" y=\"-123.8\" font-family=\"Times,serif\" font-size=\"14.00\"> </text>\n<polyline fill=\"none\" stroke=\"black\" points=\"1304.5,-109.5 1304.5,-145.5 \"/>\n<text text-anchor=\"middle\" x=\"1359.5\" y=\"-123.8\" font-family=\"Times,serif\" font-size=\"14.00\">data=2.0000</text>\n<polyline fill=\"none\" stroke=\"black\" points=\"1414.5,-109.5 1414.5,-145.5 \"/>\n<text text-anchor=\"middle\" x=\"1470\" y=\"-123.8\" font-family=\"Times,serif\" font-size=\"14.00\">grad=0.2203</text>\n</g>\n<!-- 140037631765616&#45;&gt;140037631764512* -->\n<g id=\"edge17\" class=\"edge\">\n<title>140037631765616&#45;&gt;140037631764512*</title>\n<path fill=\"none\" stroke=\"black\" d=\"M1524.17,-109.49C1535.03,-107.84 1545.36,-106.27 1554.48,-104.89\"/>\n<polygon fill=\"black\" stroke=\"black\" points=\"1555.22,-108.32 1564.59,-103.36 1554.17,-101.4 1555.22,-108.32\"/>\n</g>\n<!-- 140037631764608 -->\n<g id=\"node11\" class=\"node\">\n<title>140037631764608</title>\n<polygon fill=\"none\" stroke=\"black\" points=\"802,-82.5 802,-118.5 1155,-118.5 1155,-82.5 802,-82.5\"/>\n<text text-anchor=\"middle\" x=\"866\" y=\"-96.8\" font-family=\"Times,serif\" font-size=\"14.00\">x1*w1 + x2*w2</text>\n<polyline fill=\"none\" stroke=\"black\" points=\"930,-82.5 930,-118.5 \"/>\n<text text-anchor=\"middle\" x=\"987\" y=\"-96.8\" font-family=\"Times,serif\" font-size=\"14.00\">data=&#45;6.0000</text>\n<polyline fill=\"none\" stroke=\"black\" points=\"1044,-82.5 1044,-118.5 \"/>\n<text text-anchor=\"middle\" x=\"1099.5\" y=\"-96.8\" font-family=\"Times,serif\" font-size=\"14.00\">grad=0.5000</text>\n</g>\n<!-- 140037631765424+ -->\n<g id=\"node26\" class=\"node\">\n<title>140037631765424+</title>\n<ellipse fill=\"none\" stroke=\"black\" cx=\"1218\" cy=\"-72.5\" rx=\"27\" ry=\"18\"/>\n<text text-anchor=\"middle\" x=\"1218\" y=\"-68.8\" font-family=\"Times,serif\" font-size=\"14.00\">+</text>\n</g>\n<!-- 140037631764608&#45;&gt;140037631765424+ -->\n<g id=\"edge24\" class=\"edge\">\n<title>140037631764608&#45;&gt;140037631765424+</title>\n<path fill=\"none\" stroke=\"black\" d=\"M1132.26,-82.49C1150.35,-80.36 1167.28,-78.36 1181.18,-76.72\"/>\n<polygon fill=\"black\" stroke=\"black\" points=\"1181.67,-80.19 1191.19,-75.54 1180.85,-73.24 1181.67,-80.19\"/>\n</g>\n<!-- 140037631764608+ -->\n<g id=\"node12\" class=\"node\">\n<title>140037631764608+</title>\n<ellipse fill=\"none\" stroke=\"black\" cx=\"739\" cy=\"-100.5\" rx=\"27\" ry=\"18\"/>\n<text text-anchor=\"middle\" x=\"739\" y=\"-96.8\" font-family=\"Times,serif\" font-size=\"14.00\">+</text>\n</g>\n<!-- 140037631764608+&#45;&gt;140037631764608 -->\n<g id=\"edge5\" class=\"edge\">\n<title>140037631764608+&#45;&gt;140037631764608</title>\n<path fill=\"none\" stroke=\"black\" d=\"M766.32,-100.5C773.67,-100.5 782.26,-100.5 791.69,-100.5\"/>\n<polygon fill=\"black\" stroke=\"black\" points=\"791.79,-104 801.79,-100.5 791.79,-97 791.79,-104\"/>\n</g>\n<!-- 140037631337616 -->\n<g id=\"node13\" class=\"node\">\n<title>140037631337616</title>\n<polygon fill=\"none\" stroke=\"black\" points=\"4,-55.5 4,-91.5 259,-91.5 259,-55.5 4,-55.5\"/>\n<text text-anchor=\"middle\" x=\"21\" y=\"-69.8\" font-family=\"Times,serif\" font-size=\"14.00\">x2</text>\n<polyline fill=\"none\" stroke=\"black\" points=\"38,-55.5 38,-91.5 \"/>\n<text text-anchor=\"middle\" x=\"93\" y=\"-69.8\" font-family=\"Times,serif\" font-size=\"14.00\">data=0.0000</text>\n<polyline fill=\"none\" stroke=\"black\" points=\"148,-55.5 148,-91.5 \"/>\n<text text-anchor=\"middle\" x=\"203.5\" y=\"-69.8\" font-family=\"Times,serif\" font-size=\"14.00\">grad=0.5000</text>\n</g>\n<!-- 140037631765328* -->\n<g id=\"node20\" class=\"node\">\n<title>140037631765328*</title>\n<ellipse fill=\"none\" stroke=\"black\" cx=\"326\" cy=\"-73.5\" rx=\"27\" ry=\"18\"/>\n<text text-anchor=\"middle\" x=\"326\" y=\"-69.8\" font-family=\"Times,serif\" font-size=\"14.00\">*</text>\n</g>\n<!-- 140037631337616&#45;&gt;140037631765328* -->\n<g id=\"edge28\" class=\"edge\">\n<title>140037631337616&#45;&gt;140037631765328*</title>\n<path fill=\"none\" stroke=\"black\" d=\"M259.02,-73.5C269.57,-73.5 279.57,-73.5 288.46,-73.5\"/>\n<polygon fill=\"black\" stroke=\"black\" points=\"288.7,-77 298.7,-73.5 288.7,-70 288.7,-77\"/>\n</g>\n<!-- 140037631337664 -->\n<g id=\"node14\" class=\"node\">\n<title>140037631337664</title>\n<polygon fill=\"none\" stroke=\"black\" points=\"1.5,-165.5 1.5,-201.5 261.5,-201.5 261.5,-165.5 1.5,-165.5\"/>\n<text text-anchor=\"middle\" x=\"18.5\" y=\"-179.8\" font-family=\"Times,serif\" font-size=\"14.00\">x1</text>\n<polyline fill=\"none\" stroke=\"black\" points=\"35.5,-165.5 35.5,-201.5 \"/>\n<text text-anchor=\"middle\" x=\"90.5\" y=\"-179.8\" font-family=\"Times,serif\" font-size=\"14.00\">data=2.0000</text>\n<polyline fill=\"none\" stroke=\"black\" points=\"145.5,-165.5 145.5,-201.5 \"/>\n<text text-anchor=\"middle\" x=\"203.5\" y=\"-179.8\" font-family=\"Times,serif\" font-size=\"14.00\">grad=&#45;1.5000</text>\n</g>\n<!-- 140037631339248* -->\n<g id=\"node16\" class=\"node\">\n<title>140037631339248*</title>\n<ellipse fill=\"none\" stroke=\"black\" cx=\"326\" cy=\"-128.5\" rx=\"27\" ry=\"18\"/>\n<text text-anchor=\"middle\" x=\"326\" y=\"-124.8\" font-family=\"Times,serif\" font-size=\"14.00\">*</text>\n</g>\n<!-- 140037631337664&#45;&gt;140037631339248* -->\n<g id=\"edge27\" class=\"edge\">\n<title>140037631337664&#45;&gt;140037631339248*</title>\n<path fill=\"none\" stroke=\"black\" d=\"M231.44,-165.44C242.18,-162.77 252.88,-159.79 263,-156.5 273.73,-153.02 285.08,-148.24 295.09,-143.61\"/>\n<polygon fill=\"black\" stroke=\"black\" points=\"296.69,-146.72 304.22,-139.27 293.69,-140.4 296.69,-146.72\"/>\n</g>\n<!-- 140037631339248 -->\n<g id=\"node15\" class=\"node\">\n<title>140037631339248</title>\n<polygon fill=\"none\" stroke=\"black\" points=\"389,-110.5 389,-146.5 676,-146.5 676,-110.5 389,-110.5\"/>\n<text text-anchor=\"middle\" x=\"420\" y=\"-124.8\" font-family=\"Times,serif\" font-size=\"14.00\">x1*w1</text>\n<polyline fill=\"none\" stroke=\"black\" points=\"451,-110.5 451,-146.5 \"/>\n<text text-anchor=\"middle\" x=\"508\" y=\"-124.8\" font-family=\"Times,serif\" font-size=\"14.00\">data=&#45;6.0000</text>\n<polyline fill=\"none\" stroke=\"black\" points=\"565,-110.5 565,-146.5 \"/>\n<text text-anchor=\"middle\" x=\"620.5\" y=\"-124.8\" font-family=\"Times,serif\" font-size=\"14.00\">grad=0.5000</text>\n</g>\n<!-- 140037631339248&#45;&gt;140037631764608+ -->\n<g id=\"edge25\" class=\"edge\">\n<title>140037631339248&#45;&gt;140037631764608+</title>\n<path fill=\"none\" stroke=\"black\" d=\"M665.04,-110.49C678.55,-108.64 691.32,-106.89 702.28,-105.39\"/>\n<polygon fill=\"black\" stroke=\"black\" points=\"702.78,-108.86 712.21,-104.03 701.83,-101.92 702.78,-108.86\"/>\n</g>\n<!-- 140037631339248*&#45;&gt;140037631339248 -->\n<g id=\"edge6\" class=\"edge\">\n<title>140037631339248*&#45;&gt;140037631339248</title>\n<path fill=\"none\" stroke=\"black\" d=\"M353.32,-128.5C360.76,-128.5 369.44,-128.5 378.88,-128.5\"/>\n<polygon fill=\"black\" stroke=\"black\" points=\"378.97,-132 388.97,-128.5 378.97,-125 378.97,-132\"/>\n</g>\n<!-- 140037631309280 -->\n<g id=\"node17\" class=\"node\">\n<title>140037631309280</title>\n<polygon fill=\"none\" stroke=\"black\" points=\"2678.6,-108.5 2678.6,-144.5 2920.6,-144.5 2920.6,-108.5 2678.6,-108.5\"/>\n<text text-anchor=\"middle\" x=\"2689.1\" y=\"-122.8\" font-family=\"Times,serif\" font-size=\"14.00\"> </text>\n<polyline fill=\"none\" stroke=\"black\" points=\"2699.6,-108.5 2699.6,-144.5 \"/>\n<text text-anchor=\"middle\" x=\"2754.6\" y=\"-122.8\" font-family=\"Times,serif\" font-size=\"14.00\">data=4.8284</text>\n<polyline fill=\"none\" stroke=\"black\" points=\"2809.6,-108.5 2809.6,-144.5 \"/>\n<text text-anchor=\"middle\" x=\"2865.1\" y=\"-122.8\" font-family=\"Times,serif\" font-size=\"14.00\">grad=0.1464</text>\n</g>\n<!-- 140037631309280&#45;&gt;140037631308368* -->\n<g id=\"edge18\" class=\"edge\">\n<title>140037631309280&#45;&gt;140037631308368*</title>\n<path fill=\"none\" stroke=\"black\" d=\"M2920.81,-120.27C2999.8,-115.99 3105.38,-109.95 3198.6,-103.5 3207.02,-102.92 3216.08,-102.22 3224.61,-101.54\"/>\n<polygon fill=\"black\" stroke=\"black\" points=\"3224.98,-105.02 3234.66,-100.72 3224.41,-98.05 3224.98,-105.02\"/>\n</g>\n<!-- 140037631309280+&#45;&gt;140037631309280 -->\n<g id=\"edge7\" class=\"edge\">\n<title>140037631309280+&#45;&gt;140037631309280</title>\n<path fill=\"none\" stroke=\"black\" d=\"M2359.93,-126.5C2418.18,-126.5 2561.29,-126.5 2668.32,-126.5\"/>\n<polygon fill=\"black\" stroke=\"black\" points=\"2668.56,-130 2678.56,-126.5 2668.56,-123 2668.56,-130\"/>\n</g>\n<!-- 140037631765328 -->\n<g id=\"node19\" class=\"node\">\n<title>140037631765328</title>\n<polygon fill=\"none\" stroke=\"black\" points=\"391,-55.5 391,-91.5 674,-91.5 674,-55.5 391,-55.5\"/>\n<text text-anchor=\"middle\" x=\"422\" y=\"-69.8\" font-family=\"Times,serif\" font-size=\"14.00\">x2*w2</text>\n<polyline fill=\"none\" stroke=\"black\" points=\"453,-55.5 453,-91.5 \"/>\n<text text-anchor=\"middle\" x=\"508\" y=\"-69.8\" font-family=\"Times,serif\" font-size=\"14.00\">data=0.0000</text>\n<polyline fill=\"none\" stroke=\"black\" points=\"563,-55.5 563,-91.5 \"/>\n<text text-anchor=\"middle\" x=\"618.5\" y=\"-69.8\" font-family=\"Times,serif\" font-size=\"14.00\">grad=0.5000</text>\n</g>\n<!-- 140037631765328&#45;&gt;140037631764608+ -->\n<g id=\"edge22\" class=\"edge\">\n<title>140037631765328&#45;&gt;140037631764608+</title>\n<path fill=\"none\" stroke=\"black\" d=\"M669.9,-91.51C681.51,-93.04 692.45,-94.49 702.03,-95.75\"/>\n<polygon fill=\"black\" stroke=\"black\" points=\"701.85,-99.26 712.23,-97.1 702.77,-92.32 701.85,-99.26\"/>\n</g>\n<!-- 140037631765328*&#45;&gt;140037631765328 -->\n<g id=\"edge8\" class=\"edge\">\n<title>140037631765328*&#45;&gt;140037631765328</title>\n<path fill=\"none\" stroke=\"black\" d=\"M353.32,-73.5C361.16,-73.5 370.38,-73.5 380.41,-73.5\"/>\n<polygon fill=\"black\" stroke=\"black\" points=\"380.7,-77 390.7,-73.5 380.7,-70 380.7,-77\"/>\n</g>\n<!-- 140037631337808 -->\n<g id=\"node21\" class=\"node\">\n<title>140037631337808</title>\n<polygon fill=\"none\" stroke=\"black\" points=\"0,-110.5 0,-146.5 263,-146.5 263,-110.5 0,-110.5\"/>\n<text text-anchor=\"middle\" x=\"19\" y=\"-124.8\" font-family=\"Times,serif\" font-size=\"14.00\">w1</text>\n<polyline fill=\"none\" stroke=\"black\" points=\"38,-110.5 38,-146.5 \"/>\n<text text-anchor=\"middle\" x=\"95\" y=\"-124.8\" font-family=\"Times,serif\" font-size=\"14.00\">data=&#45;3.0000</text>\n<polyline fill=\"none\" stroke=\"black\" points=\"152,-110.5 152,-146.5 \"/>\n<text text-anchor=\"middle\" x=\"207.5\" y=\"-124.8\" font-family=\"Times,serif\" font-size=\"14.00\">grad=1.0000</text>\n</g>\n<!-- 140037631337808&#45;&gt;140037631339248* -->\n<g id=\"edge12\" class=\"edge\">\n<title>140037631337808&#45;&gt;140037631339248*</title>\n<path fill=\"none\" stroke=\"black\" d=\"M263.03,-128.5C272.25,-128.5 280.99,-128.5 288.84,-128.5\"/>\n<polygon fill=\"black\" stroke=\"black\" points=\"288.95,-132 298.95,-128.5 288.95,-125 288.95,-132\"/>\n</g>\n<!-- 140037631310192 -->\n<g id=\"node22\" class=\"node\">\n<title>140037631310192</title>\n<polygon fill=\"none\" stroke=\"black\" points=\"2025.1,-81.5 2025.1,-117.5 2267.1,-117.5 2267.1,-81.5 2025.1,-81.5\"/>\n<text text-anchor=\"middle\" x=\"2035.6\" y=\"-95.8\" font-family=\"Times,serif\" font-size=\"14.00\"> </text>\n<polyline fill=\"none\" stroke=\"black\" points=\"2046.1,-81.5 2046.1,-117.5 \"/>\n<text text-anchor=\"middle\" x=\"2101.1\" y=\"-95.8\" font-family=\"Times,serif\" font-size=\"14.00\">data=5.8284</text>\n<polyline fill=\"none\" stroke=\"black\" points=\"2156.1,-81.5 2156.1,-117.5 \"/>\n<text text-anchor=\"middle\" x=\"2211.6\" y=\"-95.8\" font-family=\"Times,serif\" font-size=\"14.00\">grad=0.0429</text>\n</g>\n<!-- 140037631310192&#45;&gt;140037631309904+ -->\n<g id=\"edge19\" class=\"edge\">\n<title>140037631310192&#45;&gt;140037631309904+</title>\n<path fill=\"none\" stroke=\"black\" d=\"M2265.77,-81.49C2276.63,-79.84 2286.95,-78.27 2296.07,-76.89\"/>\n<polygon fill=\"black\" stroke=\"black\" points=\"2296.82,-80.32 2306.18,-75.36 2295.77,-73.4 2296.82,-80.32\"/>\n</g>\n<!-- 140037631310192&#45;&gt;140037631309280+ -->\n<g id=\"edge23\" class=\"edge\">\n<title>140037631310192&#45;&gt;140037631309280+</title>\n<path fill=\"none\" stroke=\"black\" d=\"M2267.33,-117.09C2277.57,-118.59 2287.3,-120.02 2295.95,-121.28\"/>\n<polygon fill=\"black\" stroke=\"black\" points=\"2295.53,-124.76 2305.93,-122.74 2296.54,-117.83 2295.53,-124.76\"/>\n</g>\n<!-- 140037631310192exp&#45;&gt;140037631310192 -->\n<g id=\"edge9\" class=\"edge\">\n<title>140037631310192exp&#45;&gt;140037631310192</title>\n<path fill=\"none\" stroke=\"black\" d=\"M1986.77,-99.5C1994.94,-99.5 2004.54,-99.5 2014.91,-99.5\"/>\n<polygon fill=\"black\" stroke=\"black\" points=\"2015.07,-103 2025.07,-99.5 2015.07,-96 2015.07,-103\"/>\n</g>\n<!-- 140037631310240 -->\n<g id=\"node24\" class=\"node\">\n<title>140037631310240</title>\n<polygon fill=\"none\" stroke=\"black\" points=\"2022.6,-26.5 2022.6,-62.5 2269.6,-62.5 2269.6,-26.5 2022.6,-26.5\"/>\n<text text-anchor=\"middle\" x=\"2033.1\" y=\"-40.8\" font-family=\"Times,serif\" font-size=\"14.00\"> </text>\n<polyline fill=\"none\" stroke=\"black\" points=\"2043.6,-26.5 2043.6,-62.5 \"/>\n<text text-anchor=\"middle\" x=\"2098.6\" y=\"-40.8\" font-family=\"Times,serif\" font-size=\"14.00\">data=1.0000</text>\n<polyline fill=\"none\" stroke=\"black\" points=\"2153.6,-26.5 2153.6,-62.5 \"/>\n<text text-anchor=\"middle\" x=\"2211.6\" y=\"-40.8\" font-family=\"Times,serif\" font-size=\"14.00\">grad=&#45;0.1036</text>\n</g>\n<!-- 140037631310240&#45;&gt;140037631309904+ -->\n<g id=\"edge13\" class=\"edge\">\n<title>140037631310240&#45;&gt;140037631309904+</title>\n<path fill=\"none\" stroke=\"black\" d=\"M2269.65,-62.43C2279.09,-63.82 2288.05,-65.13 2296.08,-66.3\"/>\n<polygon fill=\"black\" stroke=\"black\" points=\"2295.65,-69.78 2306.05,-67.76 2296.67,-62.85 2295.65,-69.78\"/>\n</g>\n<!-- 140037631765424 -->\n<g id=\"node25\" class=\"node\">\n<title>140037631765424</title>\n<polygon fill=\"none\" stroke=\"black\" points=\"1281,-54.5 1281,-90.5 1528,-90.5 1528,-54.5 1281,-54.5\"/>\n<text text-anchor=\"middle\" x=\"1294\" y=\"-68.8\" font-family=\"Times,serif\" font-size=\"14.00\">n</text>\n<polyline fill=\"none\" stroke=\"black\" points=\"1307,-54.5 1307,-90.5 \"/>\n<text text-anchor=\"middle\" x=\"1362\" y=\"-68.8\" font-family=\"Times,serif\" font-size=\"14.00\">data=0.8814</text>\n<polyline fill=\"none\" stroke=\"black\" points=\"1417,-54.5 1417,-90.5 \"/>\n<text text-anchor=\"middle\" x=\"1472.5\" y=\"-68.8\" font-family=\"Times,serif\" font-size=\"14.00\">grad=0.5000</text>\n</g>\n<!-- 140037631765424&#45;&gt;140037631764512* -->\n<g id=\"edge21\" class=\"edge\">\n<title>140037631765424&#45;&gt;140037631764512*</title>\n<path fill=\"none\" stroke=\"black\" d=\"M1528.05,-90.43C1537.49,-91.82 1546.46,-93.13 1554.48,-94.3\"/>\n<polygon fill=\"black\" stroke=\"black\" points=\"1554.06,-97.78 1564.46,-95.76 1555.07,-90.85 1554.06,-97.78\"/>\n</g>\n<!-- 140037631765424+&#45;&gt;140037631765424 -->\n<g id=\"edge10\" class=\"edge\">\n<title>140037631765424+&#45;&gt;140037631765424</title>\n<path fill=\"none\" stroke=\"black\" d=\"M1245.04,-72.5C1252.56,-72.5 1261.32,-72.5 1270.79,-72.5\"/>\n<polygon fill=\"black\" stroke=\"black\" points=\"1270.89,-76 1280.89,-72.5 1270.89,-69 1270.89,-76\"/>\n</g>\n<!-- 140037631337952 -->\n<g id=\"node27\" class=\"node\">\n<title>140037631337952</title>\n<polygon fill=\"none\" stroke=\"black\" points=\"2,-0.5 2,-36.5 261,-36.5 261,-0.5 2,-0.5\"/>\n<text text-anchor=\"middle\" x=\"21\" y=\"-14.8\" font-family=\"Times,serif\" font-size=\"14.00\">w2</text>\n<polyline fill=\"none\" stroke=\"black\" points=\"40,-0.5 40,-36.5 \"/>\n<text text-anchor=\"middle\" x=\"95\" y=\"-14.8\" font-family=\"Times,serif\" font-size=\"14.00\">data=1.0000</text>\n<polyline fill=\"none\" stroke=\"black\" points=\"150,-0.5 150,-36.5 \"/>\n<text text-anchor=\"middle\" x=\"205.5\" y=\"-14.8\" font-family=\"Times,serif\" font-size=\"14.00\">grad=0.0000</text>\n</g>\n<!-- 140037631337952&#45;&gt;140037631765328* -->\n<g id=\"edge26\" class=\"edge\">\n<title>140037631337952&#45;&gt;140037631765328*</title>\n<path fill=\"none\" stroke=\"black\" d=\"M231.44,-36.56C242.18,-39.23 252.88,-42.21 263,-45.5 273.73,-48.98 285.08,-53.76 295.09,-58.39\"/>\n<polygon fill=\"black\" stroke=\"black\" points=\"293.69,-61.6 304.22,-62.73 296.69,-55.28 293.69,-61.6\"/>\n</g>\n<!-- 140037631336944 -->\n<g id=\"node28\" class=\"node\">\n<title>140037631336944</title>\n<polygon fill=\"none\" stroke=\"black\" points=\"855,-27.5 855,-63.5 1102,-63.5 1102,-27.5 855,-27.5\"/>\n<text text-anchor=\"middle\" x=\"868\" y=\"-41.8\" font-family=\"Times,serif\" font-size=\"14.00\">b</text>\n<polyline fill=\"none\" stroke=\"black\" points=\"881,-27.5 881,-63.5 \"/>\n<text text-anchor=\"middle\" x=\"936\" y=\"-41.8\" font-family=\"Times,serif\" font-size=\"14.00\">data=6.8814</text>\n<polyline fill=\"none\" stroke=\"black\" points=\"991,-27.5 991,-63.5 \"/>\n<text text-anchor=\"middle\" x=\"1046.5\" y=\"-41.8\" font-family=\"Times,serif\" font-size=\"14.00\">grad=0.5000</text>\n</g>\n<!-- 140037631336944&#45;&gt;140037631765424+ -->\n<g id=\"edge16\" class=\"edge\">\n<title>140037631336944&#45;&gt;140037631765424+</title>\n<path fill=\"none\" stroke=\"black\" d=\"M1102.08,-59.43C1130.99,-62.72 1159.6,-65.97 1181.05,-68.41\"/>\n<polygon fill=\"black\" stroke=\"black\" points=\"1180.94,-71.92 1191.27,-69.57 1181.73,-64.97 1180.94,-71.92\"/>\n</g>\n</g>\n</svg>\n",
      "text/plain": [
       "<graphviz.graphs.Digraph at 0x7f5d0d44f9d0>"
      ]
     },
     "execution_count": 89,
     "metadata": {},
     "output_type": "execute_result"
    }
   ],
   "source": [
    "# inputs x1,x2\n",
    "x1 = Scalar(2.0, name='x1')\n",
    "x2 = Scalar(0.0, name='x2')\n",
    "# weights w1,w2\n",
    "w1 = Scalar(-3.0, name='w1')\n",
    "w2 = Scalar(1.0, name='w2')\n",
    "# bias of the neuron\n",
    "b = Scalar(6.8813735870195432, name='b')\n",
    "# x1*w1 + x2*w2 + b\n",
    "x1w1 = x1*w1; x1w1.name = 'x1*w1'\n",
    "x2w2 = x2*w2; x2w2.name = 'x2*w2'\n",
    "x1w1x2w2 = x1w1 + x2w2; x1w1x2w2.name = 'x1*w1 + x2*w2'\n",
    "n = x1w1x2w2 + b; n.name = 'n'\n",
    "# ----\n",
    "e = (2*n).exp()\n",
    "o = (e - 1) / (e + 1)\n",
    "# ----\n",
    "o.name = 'o'\n",
    "o.backward()\n",
    "draw_dot(o)"
   ]
  },
  {
   "cell_type": "code",
   "execution_count": 90,
   "id": "0842a01f",
   "metadata": {},
   "outputs": [
    {
     "name": "stdout",
     "output_type": "stream",
     "text": [
      "0.7071066904050358\n",
      "---\n",
      "x2 0.5000001283844369\n",
      "w2 0.0\n",
      "x1 -1.5000003851533106\n",
      "w1 1.0000002567688737\n"
     ]
    }
   ],
   "source": [
    "import torch\n",
    "\n",
    "x1 = torch.Tensor([2.0]).double()                ; x1.requires_grad = True\n",
    "x2 = torch.Tensor([0.0]).double()                ; x2.requires_grad = True\n",
    "w1 = torch.Tensor([-3.0]).double()               ; w1.requires_grad = True\n",
    "w2 = torch.Tensor([1.0]).double()                ; w2.requires_grad = True\n",
    "b = torch.Tensor([6.8813735870195432]).double()  ; b.requires_grad = True\n",
    "n = x1*w1 + x2*w2 + b\n",
    "o = torch.tanh(n)\n",
    "\n",
    "print(o.data.item())\n",
    "o.backward()\n",
    "\n",
    "print('---')\n",
    "print('x2', x2.grad.item())\n",
    "print('w2', w2.grad.item())\n",
    "print('x1', x1.grad.item())\n",
    "print('w1', w1.grad.item())"
   ]
  },
  {
   "cell_type": "code",
   "execution_count": 91,
   "id": "f9dafceb",
   "metadata": {},
   "outputs": [],
   "source": [
    "from random import random\n",
    "from typing import Union\n",
    "\n",
    "class Neuron:\n",
    "\n",
    "    def __init__(self, nin: int) -> None:\n",
    "        self.nin = nin\n",
    "        self.w = [Scalar(np.random.uniform(-1.0, 1.0)) for _ in range(nin)]\n",
    "        self.b = Scalar(np.random.uniform(-1.0, 1.0))\n",
    "    \n",
    "    def __call__(self, x: Union[list, int]) -> Scalar:\n",
    "        x = [x] if isinstance(x, int) else x\n",
    "\n",
    "        assert len(x) == self.nin, \"input size has to match n_inputs\"\n",
    "\n",
    "        act = sum([wi * xi for wi, xi in zip(self.w, x)], self.b) \n",
    "\n",
    "        return act.tanh()\n",
    "\n",
    "    def parameters(self) -> List[Scalar]:\n",
    "        return self.w + [self.b]\n",
    "     \n",
    "\n",
    "class Layer:\n",
    "    \n",
    "    def __init__(self, nin, nout) -> None:\n",
    "        self.neurons = [Neuron(nin) for _ in range(nout)]\n",
    "\n",
    "    def __call__(self, x) -> List[Scalar]:\n",
    "        output = [n(x) for n in self.neurons]\n",
    "        return output[0] if len(output) == 1 else output\n",
    "\n",
    "    def parameters(self) -> List[Scalar]:\n",
    "        return [p for n in self.neurons for p in n.parameters()]\n",
    "        \n",
    "\n",
    "class MLP:\n",
    "\n",
    "    def __init__(self, nin, nouts) -> None:\n",
    "        sizes = [nin] + nouts\n",
    "        self.layers = [Layer(sizes[i], sizes[i + 1]) for i in range(len(nouts))] \n",
    "\n",
    "    def __call__(self, x):\n",
    "        for layer in self.layers:\n",
    "            x = layer(x)\n",
    "        \n",
    "        return x\n",
    "    \n",
    "    def parameters(self) -> List[Scalar]:\n",
    "        return [p for layer in self.layers for p in layer.parameters()]\n"
   ]
  },
  {
   "cell_type": "code",
   "execution_count": 92,
   "id": "51be7afd",
   "metadata": {},
   "outputs": [],
   "source": [
    "xs = [\n",
    "  [2.0, 3.0, -1.0],\n",
    "  [3.0, -1.0, 0.5],\n",
    "  [0.5, 1.0, 1.0],\n",
    "  [1.0, 1.0, -1.0],\n",
    "]\n",
    "ys = [1.0, -1.0, -1.0, 1.0] # desired targets\n",
    "\n",
    "model = MLP(3, [4, 4, 1])"
   ]
  },
  {
   "cell_type": "code",
   "execution_count": 93,
   "id": "ff03484d",
   "metadata": {},
   "outputs": [
    {
     "data": {
      "text/plain": [
       "Scalar(val=2.2488, grad=0.0000)"
      ]
     },
     "execution_count": 93,
     "metadata": {},
     "output_type": "execute_result"
    }
   ],
   "source": [
    "ypred = [model(x) for x in xs]\n",
    "loss = sum([(yout - ygt)**2 for ygt, yout in zip(ys, ypred)])\n",
    "loss"
   ]
  },
  {
   "cell_type": "code",
   "execution_count": 114,
   "id": "688e4aa5",
   "metadata": {},
   "outputs": [
    {
     "data": {
      "text/plain": [
       "Scalar(val=0.7555, grad=0.0000)"
      ]
     },
     "execution_count": 114,
     "metadata": {},
     "output_type": "execute_result"
    }
   ],
   "source": [
    "ypred = [model(x) for x in xs]\n",
    "loss = sum([(yout - ygt)**2 for ygt, yout in zip(ys, ypred)])\n",
    "loss"
   ]
  },
  {
   "cell_type": "code",
   "execution_count": 112,
   "id": "24a84925",
   "metadata": {},
   "outputs": [],
   "source": [
    "for p in model.parameters():\n",
    "    p.grad = 0.0\n",
    "loss.backward()"
   ]
  },
  {
   "cell_type": "code",
   "execution_count": 113,
   "id": "e152e725",
   "metadata": {},
   "outputs": [],
   "source": [
    "lr = 1e-3 \n",
    "for p in model.parameters():\n",
    "    p.val -= lr * p.grad "
   ]
  },
  {
   "cell_type": "code",
   "execution_count": null,
   "id": "7d9f107b",
   "metadata": {},
   "outputs": [],
   "source": []
  }
 ],
 "metadata": {
  "kernelspec": {
   "display_name": "Python 3.9.13 ('ml')",
   "language": "python",
   "name": "python3"
  },
  "language_info": {
   "codemirror_mode": {
    "name": "ipython",
    "version": 3
   },
   "file_extension": ".py",
   "mimetype": "text/x-python",
   "name": "python",
   "nbconvert_exporter": "python",
   "pygments_lexer": "ipython3",
   "version": "3.9.13"
  },
  "vscode": {
   "interpreter": {
    "hash": "766994926223b858c9015d8bbf5d6e334ae863186f5f93625656b074a8546d18"
   }
  }
 },
 "nbformat": 4,
 "nbformat_minor": 5
}
