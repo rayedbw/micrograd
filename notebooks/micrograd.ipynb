{
 "cells": [
  {
   "cell_type": "code",
   "execution_count": 1,
   "id": "81f93806",
   "metadata": {},
   "outputs": [],
   "source": [
    "import math\n",
    "import numpy as np\n",
    "import matplotlib.pyplot as plt\n",
    "\n",
    "%matplotlib inline\n"
   ]
  },
  {
   "cell_type": "code",
   "execution_count": 23,
   "id": "fda4aa2b",
   "metadata": {},
   "outputs": [],
   "source": [
    "from graphviz import Digraph\n",
    "\n",
    "\n",
    "def draw_dot(root):\n",
    "    def trace(root):\n",
    "        # builds a set of all nodes and edges in a graph\n",
    "        nodes, edges = set(), set()\n",
    "\n",
    "        def build(root):\n",
    "            if root not in nodes:\n",
    "                nodes.add(root)\n",
    "                for child in root.prev:\n",
    "                    edges.add((child, root))\n",
    "                    build(child)\n",
    "\n",
    "        build(root)\n",
    "        return nodes, edges\n",
    "\n",
    "    dot = Digraph(graph_attr={'rankdir': 'LR'}, format='svg')\n",
    "\n",
    "    nodes, edges = trace(root)\n",
    "    for node in nodes:\n",
    "        uid = str(id(node))\n",
    "        # for any value in the graph, create a rectangular ('record') node for it\n",
    "        dot.node(name=uid,\n",
    "                 label=\"{ %s | data %.3f | grad %.3f}\" % (\n",
    "                     node.name, node.val, node.grad),\n",
    "                 shape='record')\n",
    "\n",
    "        if node.op:\n",
    "            # if this value is a result of some operation, create an op node for it\n",
    "            dot.node(name=uid + node.op, label=node.op)\n",
    "            # and connect this node to it\n",
    "            dot.edge(uid + node.op, uid)\n",
    "\n",
    "    for n1, n2 in edges:\n",
    "        # connect n1 to the op node of n2\n",
    "        dot.edge(str(id(n1)), str(id(n2)) + n2.op)\n",
    "\n",
    "    return dot\n"
   ]
  },
  {
   "cell_type": "code",
   "execution_count": 39,
   "id": "c4282b12",
   "metadata": {},
   "outputs": [],
   "source": [
    "from __future__ import annotations\n",
    "from cmath import isfinite\n",
    "from typing import Union\n",
    "import uuid\n",
    "\n",
    "\n",
    "class Scalar:\n",
    "\n",
    "    def __init__(self,\n",
    "                 val: Union[float, int],\n",
    "                 name: str = '',\n",
    "                 prev: tuple[Scalar] = (),\n",
    "                 op: str = '') -> None:\n",
    "\n",
    "        assert isinstance(\n",
    "            val, (float, int)), \"val must be a float or an integer\"\n",
    "\n",
    "        self.val = val\n",
    "        self.name = name\n",
    "        self.grad = 0.0\n",
    "        self.prev = set(prev)\n",
    "        self.op = op\n",
    "\n",
    "    def __add__(self, other) -> Scalar:\n",
    "        other = other if isinstance(other, Scalar) else Scalar(other)\n",
    "        return Scalar(self.val + other.val, prev=(self, other), op='+')\n",
    "\n",
    "    def __mul__(self, other) -> Scalar:\n",
    "        other = other if isinstance(other, Scalar) else Scalar(other)\n",
    "        return Scalar(self.val * other.val, prev=(self, other), op='*')\n",
    "\n",
    "    def __radd__(self, other) -> Scalar:\n",
    "        return self + other\n",
    "\n",
    "    def __rmul__(self, other) -> Scalar:\n",
    "        return self * other\n",
    "\n",
    "    def __neg__(self) -> Scalar:\n",
    "        return self * -1\n",
    "\n",
    "    def __sub__(self, other) -> Scalar:\n",
    "        return self + (-other)\n",
    "\n",
    "    def __rsub__(self, other) -> Scalar:\n",
    "        return other + (-self)\n",
    "\n",
    "    def __pow__(self, other) -> Scalar:\n",
    "        assert isinstance(\n",
    "            other, (float, int)), 'class Scalar can only be raised by the power of an integer or a float'\n",
    "        return Scalar(math.pow(self.val, other), prev=(self, ), op=f'**{other}')\n",
    "\n",
    "    def __truediv__(self, other) -> Scalar:\n",
    "        return self * other ** -1\n",
    "\n",
    "    def __rtruediv__(self, other) -> Scalar:\n",
    "        return other * self ** -1\n",
    "\n",
    "    def __repr__(self) -> str:\n",
    "        return f'Scalar(val={self.val}, grad={self.grad})'\n"
   ]
  },
  {
   "cell_type": "code",
   "execution_count": 40,
   "id": "72a84069",
   "metadata": {},
   "outputs": [
    {
     "data": {
      "text/plain": [
       "Scalar(val=-8.0, grad=0.0)"
      ]
     },
     "execution_count": 40,
     "metadata": {},
     "output_type": "execute_result"
    }
   ],
   "source": [
    "a = Scalar(2.0, name='a')\n",
    "b = Scalar(-3.0, name='b')\n",
    "c = Scalar(10.0, name='c')\n",
    "e = a * b\n",
    "e.name = 'e'\n",
    "d = e + c\n",
    "d.name = 'd'\n",
    "f = Scalar(-2.0, name='f')\n",
    "L = d * f\n",
    "L.name = 'L'\n",
    "L\n"
   ]
  },
  {
   "cell_type": "code",
   "execution_count": 41,
   "id": "6b337c36",
   "metadata": {},
   "outputs": [
    {
     "data": {
      "image/svg+xml": "<?xml version=\"1.0\" encoding=\"UTF-8\" standalone=\"no\"?>\n<!DOCTYPE svg PUBLIC \"-//W3C//DTD SVG 1.1//EN\"\n \"http://www.w3.org/Graphics/SVG/1.1/DTD/svg11.dtd\">\n<!-- Generated by graphviz version 2.50.0 (0)\n -->\n<!-- Pages: 1 -->\n<svg width=\"1260pt\" height=\"128pt\"\n viewBox=\"0.00 0.00 1260.00 128.00\" xmlns=\"http://www.w3.org/2000/svg\" xmlns:xlink=\"http://www.w3.org/1999/xlink\">\n<g id=\"graph0\" class=\"graph\" transform=\"scale(1 1) rotate(0) translate(4 124)\">\n<polygon fill=\"white\" stroke=\"transparent\" points=\"-4,4 -4,-124 1256,-124 1256,4 -4,4\"/>\n<!-- 140267874986112 -->\n<g id=\"node1\" class=\"node\">\n<title>140267874986112</title>\n<polygon fill=\"none\" stroke=\"black\" points=\"1033,-27.5 1033,-63.5 1252,-63.5 1252,-27.5 1033,-27.5\"/>\n<text text-anchor=\"middle\" x=\"1046\" y=\"-41.8\" font-family=\"Times,serif\" font-size=\"14.00\">L</text>\n<polyline fill=\"none\" stroke=\"black\" points=\"1059,-27.5 1059,-63.5 \"/>\n<text text-anchor=\"middle\" x=\"1108\" y=\"-41.8\" font-family=\"Times,serif\" font-size=\"14.00\">data &#45;8.000</text>\n<polyline fill=\"none\" stroke=\"black\" points=\"1157,-27.5 1157,-63.5 \"/>\n<text text-anchor=\"middle\" x=\"1204.5\" y=\"-41.8\" font-family=\"Times,serif\" font-size=\"14.00\">grad 0.000</text>\n</g>\n<!-- 140267874986112* -->\n<g id=\"node2\" class=\"node\">\n<title>140267874986112*</title>\n<ellipse fill=\"none\" stroke=\"black\" cx=\"970\" cy=\"-45.5\" rx=\"27\" ry=\"18\"/>\n<text text-anchor=\"middle\" x=\"970\" y=\"-41.8\" font-family=\"Times,serif\" font-size=\"14.00\">*</text>\n</g>\n<!-- 140267874986112*&#45;&gt;140267874986112 -->\n<g id=\"edge1\" class=\"edge\">\n<title>140267874986112*&#45;&gt;140267874986112</title>\n<path fill=\"none\" stroke=\"black\" d=\"M997.27,-45.5C1004.68,-45.5 1013.25,-45.5 1022.45,-45.5\"/>\n<polygon fill=\"black\" stroke=\"black\" points=\"1022.66,-49 1032.66,-45.5 1022.66,-42 1022.66,-49\"/>\n</g>\n<!-- 140267861393024 -->\n<g id=\"node3\" class=\"node\">\n<title>140267861393024</title>\n<polygon fill=\"none\" stroke=\"black\" points=\"692.5,-55.5 692.5,-91.5 906.5,-91.5 906.5,-55.5 692.5,-55.5\"/>\n<text text-anchor=\"middle\" x=\"705.5\" y=\"-69.8\" font-family=\"Times,serif\" font-size=\"14.00\">d</text>\n<polyline fill=\"none\" stroke=\"black\" points=\"718.5,-55.5 718.5,-91.5 \"/>\n<text text-anchor=\"middle\" x=\"765\" y=\"-69.8\" font-family=\"Times,serif\" font-size=\"14.00\">data 4.000</text>\n<polyline fill=\"none\" stroke=\"black\" points=\"811.5,-55.5 811.5,-91.5 \"/>\n<text text-anchor=\"middle\" x=\"859\" y=\"-69.8\" font-family=\"Times,serif\" font-size=\"14.00\">grad 0.000</text>\n</g>\n<!-- 140267861393024&#45;&gt;140267874986112* -->\n<g id=\"edge9\" class=\"edge\">\n<title>140267861393024&#45;&gt;140267874986112*</title>\n<path fill=\"none\" stroke=\"black\" d=\"M906.74,-55.85C916.35,-54.25 925.55,-52.72 933.79,-51.35\"/>\n<polygon fill=\"black\" stroke=\"black\" points=\"934.38,-54.8 943.67,-49.71 933.23,-47.9 934.38,-54.8\"/>\n</g>\n<!-- 140267861393024+ -->\n<g id=\"node4\" class=\"node\">\n<title>140267861393024+</title>\n<ellipse fill=\"none\" stroke=\"black\" cx=\"629\" cy=\"-73.5\" rx=\"27\" ry=\"18\"/>\n<text text-anchor=\"middle\" x=\"629\" y=\"-69.8\" font-family=\"Times,serif\" font-size=\"14.00\">+</text>\n</g>\n<!-- 140267861393024+&#45;&gt;140267861393024 -->\n<g id=\"edge2\" class=\"edge\">\n<title>140267861393024+&#45;&gt;140267861393024</title>\n<path fill=\"none\" stroke=\"black\" d=\"M656.33,-73.5C663.95,-73.5 672.81,-73.5 682.29,-73.5\"/>\n<polygon fill=\"black\" stroke=\"black\" points=\"682.38,-77 692.38,-73.5 682.38,-70 682.38,-77\"/>\n</g>\n<!-- 140267861391488 -->\n<g id=\"node5\" class=\"node\">\n<title>140267861391488</title>\n<polygon fill=\"none\" stroke=\"black\" points=\"3,-56.5 3,-92.5 216,-92.5 216,-56.5 3,-56.5\"/>\n<text text-anchor=\"middle\" x=\"15.5\" y=\"-70.8\" font-family=\"Times,serif\" font-size=\"14.00\">a</text>\n<polyline fill=\"none\" stroke=\"black\" points=\"28,-56.5 28,-92.5 \"/>\n<text text-anchor=\"middle\" x=\"74.5\" y=\"-70.8\" font-family=\"Times,serif\" font-size=\"14.00\">data 2.000</text>\n<polyline fill=\"none\" stroke=\"black\" points=\"121,-56.5 121,-92.5 \"/>\n<text text-anchor=\"middle\" x=\"168.5\" y=\"-70.8\" font-family=\"Times,serif\" font-size=\"14.00\">grad 0.000</text>\n</g>\n<!-- 140267861392784* -->\n<g id=\"node9\" class=\"node\">\n<title>140267861392784*</title>\n<ellipse fill=\"none\" stroke=\"black\" cx=\"282\" cy=\"-46.5\" rx=\"27\" ry=\"18\"/>\n<text text-anchor=\"middle\" x=\"282\" y=\"-42.8\" font-family=\"Times,serif\" font-size=\"14.00\">*</text>\n</g>\n<!-- 140267861391488&#45;&gt;140267861392784* -->\n<g id=\"edge6\" class=\"edge\">\n<title>140267861391488&#45;&gt;140267861392784*</title>\n<path fill=\"none\" stroke=\"black\" d=\"M216.05,-57.17C226.53,-55.44 236.58,-53.8 245.5,-52.33\"/>\n<polygon fill=\"black\" stroke=\"black\" points=\"246.12,-55.77 255.42,-50.7 244.99,-48.87 246.12,-55.77\"/>\n</g>\n<!-- 140267861391536 -->\n<g id=\"node6\" class=\"node\">\n<title>140267861391536</title>\n<polygon fill=\"none\" stroke=\"black\" points=\"0,-1.5 0,-37.5 219,-37.5 219,-1.5 0,-1.5\"/>\n<text text-anchor=\"middle\" x=\"13\" y=\"-15.8\" font-family=\"Times,serif\" font-size=\"14.00\">b</text>\n<polyline fill=\"none\" stroke=\"black\" points=\"26,-1.5 26,-37.5 \"/>\n<text text-anchor=\"middle\" x=\"75\" y=\"-15.8\" font-family=\"Times,serif\" font-size=\"14.00\">data &#45;3.000</text>\n<polyline fill=\"none\" stroke=\"black\" points=\"124,-1.5 124,-37.5 \"/>\n<text text-anchor=\"middle\" x=\"171.5\" y=\"-15.8\" font-family=\"Times,serif\" font-size=\"14.00\">grad 0.000</text>\n</g>\n<!-- 140267861391536&#45;&gt;140267861392784* -->\n<g id=\"edge4\" class=\"edge\">\n<title>140267861391536&#45;&gt;140267861392784*</title>\n<path fill=\"none\" stroke=\"black\" d=\"M219.45,-36.75C228.7,-38.22 237.56,-39.62 245.52,-40.88\"/>\n<polygon fill=\"black\" stroke=\"black\" points=\"245,-44.34 255.43,-42.45 246.1,-37.43 245,-44.34\"/>\n</g>\n<!-- 140267861393120 -->\n<g id=\"node7\" class=\"node\">\n<title>140267861393120</title>\n<polygon fill=\"none\" stroke=\"black\" points=\"345,-83.5 345,-119.5 566,-119.5 566,-83.5 345,-83.5\"/>\n<text text-anchor=\"middle\" x=\"357\" y=\"-97.8\" font-family=\"Times,serif\" font-size=\"14.00\">c</text>\n<polyline fill=\"none\" stroke=\"black\" points=\"369,-83.5 369,-119.5 \"/>\n<text text-anchor=\"middle\" x=\"420\" y=\"-97.8\" font-family=\"Times,serif\" font-size=\"14.00\">data 10.000</text>\n<polyline fill=\"none\" stroke=\"black\" points=\"471,-83.5 471,-119.5 \"/>\n<text text-anchor=\"middle\" x=\"518.5\" y=\"-97.8\" font-family=\"Times,serif\" font-size=\"14.00\">grad 0.000</text>\n</g>\n<!-- 140267861393120&#45;&gt;140267861393024+ -->\n<g id=\"edge8\" class=\"edge\">\n<title>140267861393120&#45;&gt;140267861393024+</title>\n<path fill=\"none\" stroke=\"black\" d=\"M566.08,-83.61C575.49,-82.07 584.48,-80.61 592.54,-79.29\"/>\n<polygon fill=\"black\" stroke=\"black\" points=\"593.27,-82.72 602.58,-77.65 592.15,-75.81 593.27,-82.72\"/>\n</g>\n<!-- 140267861392784 -->\n<g id=\"node8\" class=\"node\">\n<title>140267861392784</title>\n<polygon fill=\"none\" stroke=\"black\" points=\"346.5,-28.5 346.5,-64.5 564.5,-64.5 564.5,-28.5 346.5,-28.5\"/>\n<text text-anchor=\"middle\" x=\"359\" y=\"-42.8\" font-family=\"Times,serif\" font-size=\"14.00\">e</text>\n<polyline fill=\"none\" stroke=\"black\" points=\"371.5,-28.5 371.5,-64.5 \"/>\n<text text-anchor=\"middle\" x=\"420.5\" y=\"-42.8\" font-family=\"Times,serif\" font-size=\"14.00\">data &#45;6.000</text>\n<polyline fill=\"none\" stroke=\"black\" points=\"469.5,-28.5 469.5,-64.5 \"/>\n<text text-anchor=\"middle\" x=\"517\" y=\"-42.8\" font-family=\"Times,serif\" font-size=\"14.00\">grad 0.000</text>\n</g>\n<!-- 140267861392784&#45;&gt;140267861393024+ -->\n<g id=\"edge5\" class=\"edge\">\n<title>140267861392784&#45;&gt;140267861393024+</title>\n<path fill=\"none\" stroke=\"black\" d=\"M564.63,-63.52C574.5,-65.08 583.95,-66.57 592.4,-67.9\"/>\n<polygon fill=\"black\" stroke=\"black\" points=\"592.1,-71.39 602.53,-69.49 593.19,-64.48 592.1,-71.39\"/>\n</g>\n<!-- 140267861392784*&#45;&gt;140267861392784 -->\n<g id=\"edge3\" class=\"edge\">\n<title>140267861392784*&#45;&gt;140267861392784</title>\n<path fill=\"none\" stroke=\"black\" d=\"M309.05,-46.5C316.99,-46.5 326.29,-46.5 336.27,-46.5\"/>\n<polygon fill=\"black\" stroke=\"black\" points=\"336.47,-50 346.47,-46.5 336.47,-43 336.47,-50\"/>\n</g>\n<!-- 140267872999840 -->\n<g id=\"node10\" class=\"node\">\n<title>140267872999840</title>\n<polygon fill=\"none\" stroke=\"black\" points=\"692,-0.5 692,-36.5 907,-36.5 907,-0.5 692,-0.5\"/>\n<text text-anchor=\"middle\" x=\"703\" y=\"-14.8\" font-family=\"Times,serif\" font-size=\"14.00\">f</text>\n<polyline fill=\"none\" stroke=\"black\" points=\"714,-0.5 714,-36.5 \"/>\n<text text-anchor=\"middle\" x=\"763\" y=\"-14.8\" font-family=\"Times,serif\" font-size=\"14.00\">data &#45;2.000</text>\n<polyline fill=\"none\" stroke=\"black\" points=\"812,-0.5 812,-36.5 \"/>\n<text text-anchor=\"middle\" x=\"859.5\" y=\"-14.8\" font-family=\"Times,serif\" font-size=\"14.00\">grad 0.000</text>\n</g>\n<!-- 140267872999840&#45;&gt;140267874986112* -->\n<g id=\"edge7\" class=\"edge\">\n<title>140267872999840&#45;&gt;140267874986112*</title>\n<path fill=\"none\" stroke=\"black\" d=\"M907.21,-35.6C916.57,-37.1 925.52,-38.53 933.57,-39.82\"/>\n<polygon fill=\"black\" stroke=\"black\" points=\"933.16,-43.3 943.59,-41.43 934.27,-36.39 933.16,-43.3\"/>\n</g>\n</g>\n</svg>\n",
      "text/plain": [
       "<graphviz.graphs.Digraph at 0x7f92a80d3370>"
      ]
     },
     "execution_count": 41,
     "metadata": {},
     "output_type": "execute_result"
    }
   ],
   "source": [
    "draw_dot(L)\n"
   ]
  },
  {
   "cell_type": "code",
   "execution_count": 42,
   "id": "668335ce",
   "metadata": {},
   "outputs": [
    {
     "data": {
      "image/svg+xml": "<?xml version=\"1.0\" encoding=\"UTF-8\" standalone=\"no\"?>\n<!DOCTYPE svg PUBLIC \"-//W3C//DTD SVG 1.1//EN\"\n \"http://www.w3.org/Graphics/SVG/1.1/DTD/svg11.dtd\">\n<!-- Generated by graphviz version 2.50.0 (0)\n -->\n<!-- Pages: 1 -->\n<svg width=\"1635pt\" height=\"210pt\"\n viewBox=\"0.00 0.00 1635.00 210.00\" xmlns=\"http://www.w3.org/2000/svg\" xmlns:xlink=\"http://www.w3.org/1999/xlink\">\n<g id=\"graph0\" class=\"graph\" transform=\"scale(1 1) rotate(0) translate(4 206)\">\n<polygon fill=\"white\" stroke=\"transparent\" points=\"-4,4 -4,-206 1631,-206 1631,4 -4,4\"/>\n<!-- 140267873518688 -->\n<g id=\"node1\" class=\"node\">\n<title>140267873518688</title>\n<polygon fill=\"none\" stroke=\"black\" points=\"347,-55.5 347,-91.5 570,-91.5 570,-55.5 347,-55.5\"/>\n<text text-anchor=\"middle\" x=\"357.5\" y=\"-69.8\" font-family=\"Times,serif\" font-size=\"14.00\"> </text>\n<polyline fill=\"none\" stroke=\"black\" points=\"368,-55.5 368,-91.5 \"/>\n<text text-anchor=\"middle\" x=\"421.5\" y=\"-69.8\" font-family=\"Times,serif\" font-size=\"14.00\">data &#45;10.000</text>\n<polyline fill=\"none\" stroke=\"black\" points=\"475,-55.5 475,-91.5 \"/>\n<text text-anchor=\"middle\" x=\"522.5\" y=\"-69.8\" font-family=\"Times,serif\" font-size=\"14.00\">grad 0.000</text>\n</g>\n<!-- 140267873518784+ -->\n<g id=\"node12\" class=\"node\">\n<title>140267873518784+</title>\n<ellipse fill=\"none\" stroke=\"black\" cx=\"633\" cy=\"-100.5\" rx=\"27\" ry=\"18\"/>\n<text text-anchor=\"middle\" x=\"633\" y=\"-96.8\" font-family=\"Times,serif\" font-size=\"14.00\">+</text>\n</g>\n<!-- 140267873518688&#45;&gt;140267873518784+ -->\n<g id=\"edge14\" class=\"edge\">\n<title>140267873518688&#45;&gt;140267873518784+</title>\n<path fill=\"none\" stroke=\"black\" d=\"M570.21,-90.83C579.61,-92.3 588.58,-93.7 596.64,-94.97\"/>\n<polygon fill=\"black\" stroke=\"black\" points=\"596.23,-98.44 606.65,-96.53 597.31,-91.53 596.23,-98.44\"/>\n</g>\n<!-- 140267873518688* -->\n<g id=\"node2\" class=\"node\">\n<title>140267873518688*</title>\n<ellipse fill=\"none\" stroke=\"black\" cx=\"284\" cy=\"-73.5\" rx=\"27\" ry=\"18\"/>\n<text text-anchor=\"middle\" x=\"284\" y=\"-69.8\" font-family=\"Times,serif\" font-size=\"14.00\">*</text>\n</g>\n<!-- 140267873518688*&#45;&gt;140267873518688 -->\n<g id=\"edge1\" class=\"edge\">\n<title>140267873518688*&#45;&gt;140267873518688</title>\n<path fill=\"none\" stroke=\"black\" d=\"M311.2,-73.5C318.75,-73.5 327.53,-73.5 336.96,-73.5\"/>\n<polygon fill=\"black\" stroke=\"black\" points=\"336.99,-77 346.99,-73.5 336.99,-70 336.99,-77\"/>\n</g>\n<!-- 140267873775728 -->\n<g id=\"node3\" class=\"node\">\n<title>140267873775728</title>\n<polygon fill=\"none\" stroke=\"black\" points=\"4,-165.5 4,-201.5 217,-201.5 217,-165.5 4,-165.5\"/>\n<text text-anchor=\"middle\" x=\"16.5\" y=\"-179.8\" font-family=\"Times,serif\" font-size=\"14.00\">a</text>\n<polyline fill=\"none\" stroke=\"black\" points=\"29,-165.5 29,-201.5 \"/>\n<text text-anchor=\"middle\" x=\"75.5\" y=\"-179.8\" font-family=\"Times,serif\" font-size=\"14.00\">data 2.000</text>\n<polyline fill=\"none\" stroke=\"black\" points=\"122,-165.5 122,-201.5 \"/>\n<text text-anchor=\"middle\" x=\"169.5\" y=\"-179.8\" font-family=\"Times,serif\" font-size=\"14.00\">grad 0.000</text>\n</g>\n<!-- 140267861596288* -->\n<g id=\"node5\" class=\"node\">\n<title>140267861596288*</title>\n<ellipse fill=\"none\" stroke=\"black\" cx=\"284\" cy=\"-128.5\" rx=\"27\" ry=\"18\"/>\n<text text-anchor=\"middle\" x=\"284\" y=\"-124.8\" font-family=\"Times,serif\" font-size=\"14.00\">*</text>\n</g>\n<!-- 140267873775728&#45;&gt;140267861596288* -->\n<g id=\"edge12\" class=\"edge\">\n<title>140267873775728&#45;&gt;140267861596288*</title>\n<path fill=\"none\" stroke=\"black\" d=\"M191.83,-165.49C201.74,-162.74 211.66,-159.73 221,-156.5 231.57,-152.84 242.81,-148.06 252.77,-143.48\"/>\n<polygon fill=\"black\" stroke=\"black\" points=\"254.31,-146.63 261.87,-139.2 251.33,-140.29 254.31,-146.63\"/>\n</g>\n<!-- 140267861596288 -->\n<g id=\"node4\" class=\"node\">\n<title>140267861596288</title>\n<polygon fill=\"none\" stroke=\"black\" points=\"349.5,-110.5 349.5,-146.5 567.5,-146.5 567.5,-110.5 349.5,-110.5\"/>\n<text text-anchor=\"middle\" x=\"362\" y=\"-124.8\" font-family=\"Times,serif\" font-size=\"14.00\">e</text>\n<polyline fill=\"none\" stroke=\"black\" points=\"374.5,-110.5 374.5,-146.5 \"/>\n<text text-anchor=\"middle\" x=\"423.5\" y=\"-124.8\" font-family=\"Times,serif\" font-size=\"14.00\">data &#45;6.000</text>\n<polyline fill=\"none\" stroke=\"black\" points=\"472.5,-110.5 472.5,-146.5 \"/>\n<text text-anchor=\"middle\" x=\"520\" y=\"-124.8\" font-family=\"Times,serif\" font-size=\"14.00\">grad 0.000</text>\n</g>\n<!-- 140267861596288&#45;&gt;140267873518784+ -->\n<g id=\"edge10\" class=\"edge\">\n<title>140267861596288&#45;&gt;140267873518784+</title>\n<path fill=\"none\" stroke=\"black\" d=\"M567.77,-110.93C577.97,-109.27 587.73,-107.69 596.43,-106.27\"/>\n<polygon fill=\"black\" stroke=\"black\" points=\"597.16,-109.7 606.47,-104.64 596.03,-102.79 597.16,-109.7\"/>\n</g>\n<!-- 140267861596288*&#45;&gt;140267861596288 -->\n<g id=\"edge2\" class=\"edge\">\n<title>140267861596288*&#45;&gt;140267861596288</title>\n<path fill=\"none\" stroke=\"black\" d=\"M311.2,-128.5C319.34,-128.5 328.9,-128.5 339.17,-128.5\"/>\n<polygon fill=\"black\" stroke=\"black\" points=\"339.21,-132 349.21,-128.5 339.21,-125 339.21,-132\"/>\n</g>\n<!-- 140267861390480 -->\n<g id=\"node6\" class=\"node\">\n<title>140267861390480</title>\n<polygon fill=\"none\" stroke=\"black\" points=\"1050,-82.5 1050,-118.5 1278,-118.5 1278,-82.5 1050,-82.5\"/>\n<text text-anchor=\"middle\" x=\"1061\" y=\"-96.8\" font-family=\"Times,serif\" font-size=\"14.00\">f</text>\n<polyline fill=\"none\" stroke=\"black\" points=\"1072,-82.5 1072,-118.5 \"/>\n<text text-anchor=\"middle\" x=\"1127.5\" y=\"-96.8\" font-family=\"Times,serif\" font-size=\"14.00\">data 256.000</text>\n<polyline fill=\"none\" stroke=\"black\" points=\"1183,-82.5 1183,-118.5 \"/>\n<text text-anchor=\"middle\" x=\"1230.5\" y=\"-96.8\" font-family=\"Times,serif\" font-size=\"14.00\">grad 0.000</text>\n</g>\n<!-- 140267861390000* -->\n<g id=\"node10\" class=\"node\">\n<title>140267861390000*</title>\n<ellipse fill=\"none\" stroke=\"black\" cx=\"1341\" cy=\"-127.5\" rx=\"27\" ry=\"18\"/>\n<text text-anchor=\"middle\" x=\"1341\" y=\"-123.8\" font-family=\"Times,serif\" font-size=\"14.00\">*</text>\n</g>\n<!-- 140267861390480&#45;&gt;140267861390000* -->\n<g id=\"edge7\" class=\"edge\">\n<title>140267861390480&#45;&gt;140267861390000*</title>\n<path fill=\"none\" stroke=\"black\" d=\"M1278.3,-117.98C1287.62,-119.42 1296.51,-120.79 1304.5,-122.02\"/>\n<polygon fill=\"black\" stroke=\"black\" points=\"1304.02,-125.49 1314.43,-123.56 1305.08,-118.57 1304.02,-125.49\"/>\n</g>\n<!-- 140267861390480**2 -->\n<g id=\"node7\" class=\"node\">\n<title>140267861390480**2</title>\n<ellipse fill=\"none\" stroke=\"black\" cx=\"987\" cy=\"-100.5\" rx=\"27\" ry=\"18\"/>\n<text text-anchor=\"middle\" x=\"987\" y=\"-96.8\" font-family=\"Times,serif\" font-size=\"14.00\">**2</text>\n</g>\n<!-- 140267861390480**2&#45;&gt;140267861390480 -->\n<g id=\"edge3\" class=\"edge\">\n<title>140267861390480**2&#45;&gt;140267861390480</title>\n<path fill=\"none\" stroke=\"black\" d=\"M1014.2,-100.5C1021.62,-100.5 1030.23,-100.5 1039.48,-100.5\"/>\n<polygon fill=\"black\" stroke=\"black\" points=\"1039.76,-104 1049.76,-100.5 1039.76,-97 1039.76,-104\"/>\n</g>\n<!-- 140267861597296 -->\n<g id=\"node8\" class=\"node\">\n<title>140267861597296</title>\n<polygon fill=\"none\" stroke=\"black\" points=\"0,-55.5 0,-91.5 221,-91.5 221,-55.5 0,-55.5\"/>\n<text text-anchor=\"middle\" x=\"12\" y=\"-69.8\" font-family=\"Times,serif\" font-size=\"14.00\">c</text>\n<polyline fill=\"none\" stroke=\"black\" points=\"24,-55.5 24,-91.5 \"/>\n<text text-anchor=\"middle\" x=\"75\" y=\"-69.8\" font-family=\"Times,serif\" font-size=\"14.00\">data 10.000</text>\n<polyline fill=\"none\" stroke=\"black\" points=\"126,-55.5 126,-91.5 \"/>\n<text text-anchor=\"middle\" x=\"173.5\" y=\"-69.8\" font-family=\"Times,serif\" font-size=\"14.00\">grad 0.000</text>\n</g>\n<!-- 140267861597296&#45;&gt;140267873518688* -->\n<g id=\"edge6\" class=\"edge\">\n<title>140267861597296&#45;&gt;140267873518688*</title>\n<path fill=\"none\" stroke=\"black\" d=\"M221.08,-73.5C230.2,-73.5 238.93,-73.5 246.8,-73.5\"/>\n<polygon fill=\"black\" stroke=\"black\" points=\"246.98,-77 256.98,-73.5 246.98,-70 246.98,-77\"/>\n</g>\n<!-- 140267861390000 -->\n<g id=\"node9\" class=\"node\">\n<title>140267861390000</title>\n<polygon fill=\"none\" stroke=\"black\" points=\"1404,-109.5 1404,-145.5 1627,-145.5 1627,-109.5 1404,-109.5\"/>\n<text text-anchor=\"middle\" x=\"1417\" y=\"-123.8\" font-family=\"Times,serif\" font-size=\"14.00\">L</text>\n<polyline fill=\"none\" stroke=\"black\" points=\"1430,-109.5 1430,-145.5 \"/>\n<text text-anchor=\"middle\" x=\"1481\" y=\"-123.8\" font-family=\"Times,serif\" font-size=\"14.00\">data 64.000</text>\n<polyline fill=\"none\" stroke=\"black\" points=\"1532,-109.5 1532,-145.5 \"/>\n<text text-anchor=\"middle\" x=\"1579.5\" y=\"-123.8\" font-family=\"Times,serif\" font-size=\"14.00\">grad 0.000</text>\n</g>\n<!-- 140267861390000*&#45;&gt;140267861390000 -->\n<g id=\"edge4\" class=\"edge\">\n<title>140267861390000*&#45;&gt;140267861390000</title>\n<path fill=\"none\" stroke=\"black\" d=\"M1368.2,-127.5C1375.75,-127.5 1384.53,-127.5 1393.96,-127.5\"/>\n<polygon fill=\"black\" stroke=\"black\" points=\"1393.99,-131 1403.99,-127.5 1393.99,-124 1393.99,-131\"/>\n</g>\n<!-- 140267873518784 -->\n<g id=\"node11\" class=\"node\">\n<title>140267873518784</title>\n<polygon fill=\"none\" stroke=\"black\" points=\"696,-82.5 696,-118.5 924,-118.5 924,-82.5 696,-82.5\"/>\n<text text-anchor=\"middle\" x=\"709\" y=\"-96.8\" font-family=\"Times,serif\" font-size=\"14.00\">d</text>\n<polyline fill=\"none\" stroke=\"black\" points=\"722,-82.5 722,-118.5 \"/>\n<text text-anchor=\"middle\" x=\"775.5\" y=\"-96.8\" font-family=\"Times,serif\" font-size=\"14.00\">data &#45;16.000</text>\n<polyline fill=\"none\" stroke=\"black\" points=\"829,-82.5 829,-118.5 \"/>\n<text text-anchor=\"middle\" x=\"876.5\" y=\"-96.8\" font-family=\"Times,serif\" font-size=\"14.00\">grad 0.000</text>\n</g>\n<!-- 140267873518784&#45;&gt;140267861390480**2 -->\n<g id=\"edge8\" class=\"edge\">\n<title>140267873518784&#45;&gt;140267861390480**2</title>\n<path fill=\"none\" stroke=\"black\" d=\"M924.3,-100.5C933.34,-100.5 941.97,-100.5 949.76,-100.5\"/>\n<polygon fill=\"black\" stroke=\"black\" points=\"949.83,-104 959.83,-100.5 949.83,-97 949.83,-104\"/>\n</g>\n<!-- 140267873518784+&#45;&gt;140267873518784 -->\n<g id=\"edge5\" class=\"edge\">\n<title>140267873518784+&#45;&gt;140267873518784</title>\n<path fill=\"none\" stroke=\"black\" d=\"M660.2,-100.5C667.62,-100.5 676.23,-100.5 685.48,-100.5\"/>\n<polygon fill=\"black\" stroke=\"black\" points=\"685.76,-104 695.76,-100.5 685.76,-97 685.76,-104\"/>\n</g>\n<!-- 140267861596336 -->\n<g id=\"node13\" class=\"node\">\n<title>140267861596336</title>\n<polygon fill=\"none\" stroke=\"black\" points=\"3.5,-0.5 3.5,-36.5 217.5,-36.5 217.5,-0.5 3.5,-0.5\"/>\n<text text-anchor=\"middle\" x=\"14\" y=\"-14.8\" font-family=\"Times,serif\" font-size=\"14.00\"> </text>\n<polyline fill=\"none\" stroke=\"black\" points=\"24.5,-0.5 24.5,-36.5 \"/>\n<text text-anchor=\"middle\" x=\"73.5\" y=\"-14.8\" font-family=\"Times,serif\" font-size=\"14.00\">data &#45;1.000</text>\n<polyline fill=\"none\" stroke=\"black\" points=\"122.5,-0.5 122.5,-36.5 \"/>\n<text text-anchor=\"middle\" x=\"170\" y=\"-14.8\" font-family=\"Times,serif\" font-size=\"14.00\">grad 0.000</text>\n</g>\n<!-- 140267861596336&#45;&gt;140267873518688* -->\n<g id=\"edge11\" class=\"edge\">\n<title>140267861596336&#45;&gt;140267873518688*</title>\n<path fill=\"none\" stroke=\"black\" d=\"M188.54,-36.54C199.52,-39.59 210.61,-42.93 221,-46.5 231.33,-50.04 242.33,-54.58 252.16,-58.91\"/>\n<polygon fill=\"black\" stroke=\"black\" points=\"250.98,-62.21 261.53,-63.14 253.85,-55.83 250.98,-62.21\"/>\n</g>\n<!-- 140267861393072 -->\n<g id=\"node14\" class=\"node\">\n<title>140267861393072</title>\n<polygon fill=\"none\" stroke=\"black\" points=\"1059.5,-137.5 1059.5,-173.5 1268.5,-173.5 1268.5,-137.5 1059.5,-137.5\"/>\n<text text-anchor=\"middle\" x=\"1070\" y=\"-151.8\" font-family=\"Times,serif\" font-size=\"14.00\"> </text>\n<polyline fill=\"none\" stroke=\"black\" points=\"1080.5,-137.5 1080.5,-173.5 \"/>\n<text text-anchor=\"middle\" x=\"1127\" y=\"-151.8\" font-family=\"Times,serif\" font-size=\"14.00\">data 0.250</text>\n<polyline fill=\"none\" stroke=\"black\" points=\"1173.5,-137.5 1173.5,-173.5 \"/>\n<text text-anchor=\"middle\" x=\"1221\" y=\"-151.8\" font-family=\"Times,serif\" font-size=\"14.00\">grad 0.000</text>\n</g>\n<!-- 140267861393072&#45;&gt;140267861390000* -->\n<g id=\"edge9\" class=\"edge\">\n<title>140267861393072&#45;&gt;140267861390000*</title>\n<path fill=\"none\" stroke=\"black\" d=\"M1268.57,-138.93C1281.41,-136.87 1293.77,-134.9 1304.5,-133.18\"/>\n<polygon fill=\"black\" stroke=\"black\" points=\"1305.32,-136.59 1314.64,-131.56 1304.21,-129.68 1305.32,-136.59\"/>\n</g>\n<!-- 140267872997824 -->\n<g id=\"node15\" class=\"node\">\n<title>140267872997824</title>\n<polygon fill=\"none\" stroke=\"black\" points=\"1,-110.5 1,-146.5 220,-146.5 220,-110.5 1,-110.5\"/>\n<text text-anchor=\"middle\" x=\"14\" y=\"-124.8\" font-family=\"Times,serif\" font-size=\"14.00\">b</text>\n<polyline fill=\"none\" stroke=\"black\" points=\"27,-110.5 27,-146.5 \"/>\n<text text-anchor=\"middle\" x=\"76\" y=\"-124.8\" font-family=\"Times,serif\" font-size=\"14.00\">data &#45;3.000</text>\n<polyline fill=\"none\" stroke=\"black\" points=\"125,-110.5 125,-146.5 \"/>\n<text text-anchor=\"middle\" x=\"172.5\" y=\"-124.8\" font-family=\"Times,serif\" font-size=\"14.00\">grad 0.000</text>\n</g>\n<!-- 140267872997824&#45;&gt;140267861596288* -->\n<g id=\"edge13\" class=\"edge\">\n<title>140267872997824&#45;&gt;140267861596288*</title>\n<path fill=\"none\" stroke=\"black\" d=\"M220.11,-128.5C229.54,-128.5 238.57,-128.5 246.7,-128.5\"/>\n<polygon fill=\"black\" stroke=\"black\" points=\"246.83,-132 256.83,-128.5 246.83,-125 246.83,-132\"/>\n</g>\n</g>\n</svg>\n",
      "text/plain": [
       "<graphviz.graphs.Digraph at 0x7f92a80d3f40>"
      ]
     },
     "execution_count": 42,
     "metadata": {},
     "output_type": "execute_result"
    }
   ],
   "source": [
    "a = Scalar(2.0, name='a')\n",
    "b = Scalar(-3.0, name='b')\n",
    "c = Scalar(10.0, name='c')\n",
    "e = a * b\n",
    "e.name = 'e'\n",
    "d = e - c\n",
    "d.name = 'd'\n",
    "\n",
    "f = d ** 2\n",
    "f.name = 'f'\n",
    "# L = f / 5\n",
    "L = f / 4\n",
    "L.name = 'L'\n",
    "# L\n",
    "\n",
    "draw_dot(L)"
   ]
  },
  {
   "cell_type": "code",
   "execution_count": 34,
   "id": "c07afdcb",
   "metadata": {},
   "outputs": [
    {
     "data": {
      "text/plain": [
       "Scalar(val=-1.5000075000326516)"
      ]
     },
     "execution_count": 34,
     "metadata": {},
     "output_type": "execute_result"
    }
   ],
   "source": [
    "def lol():\n",
    "    h = 0.00001\n",
    "\n",
    "    a = Scalar(2.0, name='a')\n",
    "    b = Scalar(-3.0, name='b')\n",
    "    c = Scalar(10.0, name='c')\n",
    "    e = a * b\n",
    "    e.name = 'e'\n",
    "    d = e + c\n",
    "    d.name = 'd'\n",
    "    f = Scalar(-2.0, name='f')\n",
    "    L = d / f\n",
    "    L.name = 'L'\n",
    "    d1 = L\n",
    "\n",
    "    a = Scalar(2.0, name='a')\n",
    "    b = Scalar(-3.0, name='b')\n",
    "    c = Scalar(10.0, name='c') \n",
    "    e = a * b\n",
    "    e.name = 'e'\n",
    "    d = e + c + h\n",
    "    d.name = 'd'\n",
    "    f = Scalar(-2.0, name='f') + h\n",
    "    L = d / f\n",
    "    L.name = 'L'\n",
    "    d2 = L\n",
    "\n",
    "    grad = (d2 - d1) / h\n",
    "\n",
    "    return grad\n",
    "\n",
    "\n",
    "lol()\n"
   ]
  },
  {
   "cell_type": "code",
   "execution_count": null,
   "id": "85c311d6",
   "metadata": {},
   "outputs": [],
   "source": []
  }
 ],
 "metadata": {
  "kernelspec": {
   "display_name": "Python 3.9.13 ('pytorch')",
   "language": "python",
   "name": "python3"
  },
  "language_info": {
   "codemirror_mode": {
    "name": "ipython",
    "version": 3
   },
   "file_extension": ".py",
   "mimetype": "text/x-python",
   "name": "python",
   "nbconvert_exporter": "python",
   "pygments_lexer": "ipython3",
   "version": "3.9.13"
  },
  "vscode": {
   "interpreter": {
    "hash": "f3ccde38f660dacc8f821cb3ef018a1382a7800f1b085e490b847304baeb57a9"
   }
  }
 },
 "nbformat": 4,
 "nbformat_minor": 5
}
