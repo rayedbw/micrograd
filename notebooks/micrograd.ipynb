{
 "cells": [
  {
   "cell_type": "code",
   "execution_count": 8,
   "id": "81f93806",
   "metadata": {},
   "outputs": [],
   "source": [
    "import math\n",
    "import numpy as np\n",
    "import matplotlib.pyplot as plt\n",
    "\n",
    "%matplotlib inline\n"
   ]
  },
  {
   "cell_type": "code",
   "execution_count": 72,
   "id": "fda4aa2b",
   "metadata": {},
   "outputs": [],
   "source": [
    "from graphviz import Digraph\n",
    "\n",
    "\n",
    "def draw_dot(root):\n",
    "    def trace(root):\n",
    "        # builds a set of all nodes and edges in a graph\n",
    "        nodes, edges = set(), set()\n",
    "\n",
    "        def build(root):\n",
    "            if root not in nodes:\n",
    "                nodes.add(root)\n",
    "                for child in root.prev:\n",
    "                    edges.add((child, root))\n",
    "                    build(child)\n",
    "\n",
    "        build(root)\n",
    "        return nodes, edges\n",
    "\n",
    "    dot = Digraph(graph_attr={'rankdir': 'LR'}, format='svg')\n",
    "\n",
    "    nodes, edges = trace(root)\n",
    "    for node in nodes:\n",
    "        uid = str(id(node))\n",
    "        # for any value in the graph, create a rectangular ('record') node for it\n",
    "        dot.node(name=uid,\n",
    "                 label=\"{ %s | data=%0.4f | grad=%0.4f}\" % (\n",
    "                     node.name, node.val, node.grad),\n",
    "                 shape='record')\n",
    "\n",
    "        if node.op:\n",
    "            # if this value is a result of some operation, create an op node for it\n",
    "            dot.node(name=uid + node.op, label=node.op)\n",
    "            # and connect this node to it\n",
    "            dot.edge(uid + node.op, uid)\n",
    "\n",
    "    for n1, n2 in edges:\n",
    "        # connect n1 to the op node of n2\n",
    "        dot.edge(str(id(n1)), str(id(n2)) + n2.op)\n",
    "\n",
    "    return dot\n"
   ]
  },
  {
   "cell_type": "code",
   "execution_count": 73,
   "id": "c4282b12",
   "metadata": {},
   "outputs": [],
   "source": [
    "from __future__ import annotations\n",
    "from cmath import isfinite\n",
    "from typing import Union\n",
    "import uuid\n",
    "\n",
    "\n",
    "class Scalar:\n",
    "\n",
    "    def __init__(self,\n",
    "                 val: Union[float, int],\n",
    "                 name: str = '',\n",
    "                 prev: tuple[Scalar] = (),\n",
    "                 op: str = '') -> None:\n",
    "\n",
    "        assert isinstance(\n",
    "            val, (float, int)), \"val must be a float or an integer\"\n",
    "\n",
    "        self.val = val\n",
    "        self.name = name\n",
    "        self.grad = 0.0\n",
    "        self.prev = set(prev)\n",
    "        self.op = op\n",
    "\n",
    "    def tanh(self) -> Scalar:\n",
    "        x = self.val\n",
    "        tanh = (math.exp(2*x) - 1) / (math.exp(2*x) + 1)\n",
    "        return Scalar(tanh, prev=(self, ), op='tanh')\n",
    "\n",
    "    def __add__(self, other) -> Scalar:\n",
    "        other = other if isinstance(other, Scalar) else Scalar(other)\n",
    "        return Scalar(self.val + other.val, prev=(self, other), op='+')\n",
    "\n",
    "    def __mul__(self, other) -> Scalar:\n",
    "        other = other if isinstance(other, Scalar) else Scalar(other)\n",
    "        return Scalar(self.val * other.val, prev=(self, other), op='*')\n",
    "\n",
    "    def __radd__(self, other) -> Scalar:\n",
    "        return self + other\n",
    "\n",
    "    def __rmul__(self, other) -> Scalar:\n",
    "        return self * other\n",
    "\n",
    "    def __neg__(self) -> Scalar:\n",
    "        return self * -1\n",
    "\n",
    "    def __sub__(self, other) -> Scalar:\n",
    "        return self + (-other)\n",
    "\n",
    "    def __rsub__(self, other) -> Scalar:\n",
    "        return other + (-self)\n",
    "\n",
    "    def __pow__(self, other) -> Scalar:\n",
    "        assert isinstance(\n",
    "            other, (float, int)), 'class Scalar can only be raised by the power of an integer or a float'\n",
    "        return Scalar(math.pow(self.val, other), prev=(self, ), op=f'**{other}')\n",
    "\n",
    "    def __truediv__(self, other) -> Scalar:\n",
    "        return self * other ** -1\n",
    "\n",
    "    def __rtruediv__(self, other) -> Scalar:\n",
    "        return other * self ** -1\n",
    "\n",
    "    def __repr__(self) -> str:\n",
    "        return f'Scalar(val={self.val:0.4f}, grad={self.grad:0.4f})'\n"
   ]
  },
  {
   "cell_type": "code",
   "execution_count": 74,
   "id": "5b3e3fa2",
   "metadata": {},
   "outputs": [
    {
     "data": {
      "image/png": "[encoded data removed]",
      "text/plain": [
       "<Figure size 640x480 with 1 Axes>"
      ]
     },
     "metadata": {},
     "output_type": "display_data"
    }
   ],
   "source": [
    "xs = np.arange(-5, 5, 0.25)\n",
    "ys = np.tanh(xs)\n",
    "plt.plot(xs, ys)\n",
    "plt.grid()  "
   ]
  },
  {
   "cell_type": "code",
   "execution_count": 78,
   "id": "85c311d6",
   "metadata": {},
   "outputs": [],
   "source": [
    "# inputs x1, x2\n",
    "x1 = Scalar(2.0, name='x1')\n",
    "x2 = Scalar(0.0, name='x2')\n",
    "# weights w1, w2,\n",
    "w1 = Scalar(-3.0, name='w1')\n",
    "w2 = Scalar(1.0, name='w2')\n",
    "# bias\n",
    "b = Scalar(6.8813735, name='b')\n",
    "\n",
    "x1w1 = x1 * w1\n",
    "x1w1.name = 'x1w1'\n",
    "x2w2 = x2 * w2\n",
    "x2w2.name = 'x2w2'\n",
    "x1w1x2w2 = x1w1 + x2w2\n",
    "x1w1x2w2.name = 'x1w1x2w2'\n",
    "n = x1w1x2w2 + b\n",
    "n.name = 'n'\n",
    "m = n.tanh()\n",
    "m.name = 'm'"
   ]
  },
  {
   "cell_type": "code",
   "execution_count": 89,
   "id": "10f66f1a",
   "metadata": {},
   "outputs": [
    {
     "data": {
      "image/svg+xml": "<?xml version=\"1.0\" encoding=\"UTF-8\" standalone=\"no\"?>\n<!DOCTYPE svg PUBLIC \"-//W3C//DTD SVG 1.1//EN\"\n \"http://www.w3.org/Graphics/SVG/1.1/DTD/svg11.dtd\">\n<!-- Generated by graphviz version 2.50.0 (0)\n -->\n<!-- Pages: 1 -->\n<svg width=\"1881pt\" height=\"210pt\"\n viewBox=\"0.00 0.00 1880.69 210.00\" xmlns=\"http://www.w3.org/2000/svg\" xmlns:xlink=\"http://www.w3.org/1999/xlink\">\n<g id=\"graph0\" class=\"graph\" transform=\"scale(1 1) rotate(0) translate(4 206)\">\n<polygon fill=\"white\" stroke=\"transparent\" points=\"-4,4 -4,-206 1876.69,-206 1876.69,4 -4,4\"/>\n<!-- 139800770599472 -->\n<g id=\"node1\" class=\"node\">\n<title>139800770599472</title>\n<polygon fill=\"none\" stroke=\"black\" points=\"0,-165.5 0,-201.5 263,-201.5 263,-165.5 0,-165.5\"/>\n<text text-anchor=\"middle\" x=\"19\" y=\"-179.8\" font-family=\"Times,serif\" font-size=\"14.00\">w1</text>\n<polyline fill=\"none\" stroke=\"black\" points=\"38,-165.5 38,-201.5 \"/>\n<text text-anchor=\"middle\" x=\"95\" y=\"-179.8\" font-family=\"Times,serif\" font-size=\"14.00\">data=&#45;3.0000</text>\n<polyline fill=\"none\" stroke=\"black\" points=\"152,-165.5 152,-201.5 \"/>\n<text text-anchor=\"middle\" x=\"207.5\" y=\"-179.8\" font-family=\"Times,serif\" font-size=\"14.00\">grad=0.0000</text>\n</g>\n<!-- 139800771595712* -->\n<g id=\"node13\" class=\"node\">\n<title>139800771595712*</title>\n<ellipse fill=\"none\" stroke=\"black\" cx=\"326\" cy=\"-128.5\" rx=\"27\" ry=\"18\"/>\n<text text-anchor=\"middle\" x=\"326\" y=\"-124.8\" font-family=\"Times,serif\" font-size=\"14.00\">*</text>\n</g>\n<!-- 139800770599472&#45;&gt;139800771595712* -->\n<g id=\"edge10\" class=\"edge\">\n<title>139800770599472&#45;&gt;139800771595712*</title>\n<path fill=\"none\" stroke=\"black\" d=\"M231.44,-165.44C242.18,-162.77 252.88,-159.79 263,-156.5 273.73,-153.02 285.08,-148.24 295.09,-143.61\"/>\n<polygon fill=\"black\" stroke=\"black\" points=\"296.69,-146.72 304.22,-139.27 293.69,-140.4 296.69,-146.72\"/>\n</g>\n<!-- 139800770597456 -->\n<g id=\"node2\" class=\"node\">\n<title>139800770597456</title>\n<polygon fill=\"none\" stroke=\"black\" points=\"4,-55.5 4,-91.5 259,-91.5 259,-55.5 4,-55.5\"/>\n<text text-anchor=\"middle\" x=\"21\" y=\"-69.8\" font-family=\"Times,serif\" font-size=\"14.00\">x2</text>\n<polyline fill=\"none\" stroke=\"black\" points=\"38,-55.5 38,-91.5 \"/>\n<text text-anchor=\"middle\" x=\"93\" y=\"-69.8\" font-family=\"Times,serif\" font-size=\"14.00\">data=0.0000</text>\n<polyline fill=\"none\" stroke=\"black\" points=\"148,-55.5 148,-91.5 \"/>\n<text text-anchor=\"middle\" x=\"203.5\" y=\"-69.8\" font-family=\"Times,serif\" font-size=\"14.00\">grad=0.0000</text>\n</g>\n<!-- 139800771593168* -->\n<g id=\"node7\" class=\"node\">\n<title>139800771593168*</title>\n<ellipse fill=\"none\" stroke=\"black\" cx=\"326\" cy=\"-73.5\" rx=\"27\" ry=\"18\"/>\n<text text-anchor=\"middle\" x=\"326\" y=\"-69.8\" font-family=\"Times,serif\" font-size=\"14.00\">*</text>\n</g>\n<!-- 139800770597456&#45;&gt;139800771593168* -->\n<g id=\"edge13\" class=\"edge\">\n<title>139800770597456&#45;&gt;139800771593168*</title>\n<path fill=\"none\" stroke=\"black\" d=\"M259.02,-73.5C269.57,-73.5 279.57,-73.5 288.46,-73.5\"/>\n<polygon fill=\"black\" stroke=\"black\" points=\"288.7,-77 298.7,-73.5 288.7,-70 288.7,-77\"/>\n</g>\n<!-- 139800770630752 -->\n<g id=\"node3\" class=\"node\">\n<title>139800770630752</title>\n<polygon fill=\"none\" stroke=\"black\" points=\"795,-82.5 795,-118.5 1113,-118.5 1113,-82.5 795,-82.5\"/>\n<text text-anchor=\"middle\" x=\"841.5\" y=\"-96.8\" font-family=\"Times,serif\" font-size=\"14.00\">x1w1x2w2</text>\n<polyline fill=\"none\" stroke=\"black\" points=\"888,-82.5 888,-118.5 \"/>\n<text text-anchor=\"middle\" x=\"945\" y=\"-96.8\" font-family=\"Times,serif\" font-size=\"14.00\">data=&#45;6.0000</text>\n<polyline fill=\"none\" stroke=\"black\" points=\"1002,-82.5 1002,-118.5 \"/>\n<text text-anchor=\"middle\" x=\"1057.5\" y=\"-96.8\" font-family=\"Times,serif\" font-size=\"14.00\">grad=0.5000</text>\n</g>\n<!-- 139800770630512+ -->\n<g id=\"node10\" class=\"node\">\n<title>139800770630512+</title>\n<ellipse fill=\"none\" stroke=\"black\" cx=\"1176\" cy=\"-72.5\" rx=\"27\" ry=\"18\"/>\n<text text-anchor=\"middle\" x=\"1176\" y=\"-68.8\" font-family=\"Times,serif\" font-size=\"14.00\">+</text>\n</g>\n<!-- 139800770630752&#45;&gt;139800770630512+ -->\n<g id=\"edge8\" class=\"edge\">\n<title>139800770630752&#45;&gt;139800770630512+</title>\n<path fill=\"none\" stroke=\"black\" d=\"M1096.51,-82.49C1112.12,-80.5 1126.81,-78.63 1139.16,-77.06\"/>\n<polygon fill=\"black\" stroke=\"black\" points=\"1139.9,-80.5 1149.38,-75.76 1139.02,-73.55 1139.9,-80.5\"/>\n</g>\n<!-- 139800770630752+ -->\n<g id=\"node4\" class=\"node\">\n<title>139800770630752+</title>\n<ellipse fill=\"none\" stroke=\"black\" cx=\"732\" cy=\"-100.5\" rx=\"27\" ry=\"18\"/>\n<text text-anchor=\"middle\" x=\"732\" y=\"-96.8\" font-family=\"Times,serif\" font-size=\"14.00\">+</text>\n</g>\n<!-- 139800770630752+&#45;&gt;139800770630752 -->\n<g id=\"edge1\" class=\"edge\">\n<title>139800770630752+&#45;&gt;139800770630752</title>\n<path fill=\"none\" stroke=\"black\" d=\"M759.1,-100.5C766.53,-100.5 775.23,-100.5 784.74,-100.5\"/>\n<polygon fill=\"black\" stroke=\"black\" points=\"784.92,-104 794.92,-100.5 784.92,-97 784.92,-104\"/>\n</g>\n<!-- 139800781404624 -->\n<g id=\"node5\" class=\"node\">\n<title>139800781404624</title>\n<polygon fill=\"none\" stroke=\"black\" points=\"830.5,-27.5 830.5,-63.5 1077.5,-63.5 1077.5,-27.5 830.5,-27.5\"/>\n<text text-anchor=\"middle\" x=\"843.5\" y=\"-41.8\" font-family=\"Times,serif\" font-size=\"14.00\">b</text>\n<polyline fill=\"none\" stroke=\"black\" points=\"856.5,-27.5 856.5,-63.5 \"/>\n<text text-anchor=\"middle\" x=\"911.5\" y=\"-41.8\" font-family=\"Times,serif\" font-size=\"14.00\">data=6.8814</text>\n<polyline fill=\"none\" stroke=\"black\" points=\"966.5,-27.5 966.5,-63.5 \"/>\n<text text-anchor=\"middle\" x=\"1022\" y=\"-41.8\" font-family=\"Times,serif\" font-size=\"14.00\">grad=0.5000</text>\n</g>\n<!-- 139800781404624&#45;&gt;139800770630512+ -->\n<g id=\"edge6\" class=\"edge\">\n<title>139800781404624&#45;&gt;139800770630512+</title>\n<path fill=\"none\" stroke=\"black\" d=\"M1077.54,-60.54C1100.09,-63.31 1121.93,-65.99 1139.2,-68.11\"/>\n<polygon fill=\"black\" stroke=\"black\" points=\"1138.98,-71.61 1149.33,-69.35 1139.83,-64.66 1138.98,-71.61\"/>\n</g>\n<!-- 139800771593168 -->\n<g id=\"node6\" class=\"node\">\n<title>139800771593168</title>\n<polygon fill=\"none\" stroke=\"black\" points=\"391,-55.5 391,-91.5 667,-91.5 667,-55.5 391,-55.5\"/>\n<text text-anchor=\"middle\" x=\"418.5\" y=\"-69.8\" font-family=\"Times,serif\" font-size=\"14.00\">x2w2</text>\n<polyline fill=\"none\" stroke=\"black\" points=\"446,-55.5 446,-91.5 \"/>\n<text text-anchor=\"middle\" x=\"501\" y=\"-69.8\" font-family=\"Times,serif\" font-size=\"14.00\">data=0.0000</text>\n<polyline fill=\"none\" stroke=\"black\" points=\"556,-55.5 556,-91.5 \"/>\n<text text-anchor=\"middle\" x=\"611.5\" y=\"-69.8\" font-family=\"Times,serif\" font-size=\"14.00\">grad=0.0000</text>\n</g>\n<!-- 139800771593168&#45;&gt;139800770630752+ -->\n<g id=\"edge11\" class=\"edge\">\n<title>139800771593168&#45;&gt;139800770630752+</title>\n<path fill=\"none\" stroke=\"black\" d=\"M664.07,-91.51C675.37,-93.03 686.03,-94.46 695.39,-95.72\"/>\n<polygon fill=\"black\" stroke=\"black\" points=\"694.97,-99.19 705.35,-97.05 695.91,-92.25 694.97,-99.19\"/>\n</g>\n<!-- 139800771593168*&#45;&gt;139800771593168 -->\n<g id=\"edge2\" class=\"edge\">\n<title>139800771593168*&#45;&gt;139800771593168</title>\n<path fill=\"none\" stroke=\"black\" d=\"M353.28,-73.5C361.26,-73.5 370.66,-73.5 380.88,-73.5\"/>\n<polygon fill=\"black\" stroke=\"black\" points=\"380.91,-77 390.91,-73.5 380.91,-70 380.91,-77\"/>\n</g>\n<!-- 139800770597312 -->\n<g id=\"node8\" class=\"node\">\n<title>139800770597312</title>\n<polygon fill=\"none\" stroke=\"black\" points=\"4,-110.5 4,-146.5 259,-146.5 259,-110.5 4,-110.5\"/>\n<text text-anchor=\"middle\" x=\"21\" y=\"-124.8\" font-family=\"Times,serif\" font-size=\"14.00\">x1</text>\n<polyline fill=\"none\" stroke=\"black\" points=\"38,-110.5 38,-146.5 \"/>\n<text text-anchor=\"middle\" x=\"93\" y=\"-124.8\" font-family=\"Times,serif\" font-size=\"14.00\">data=2.0000</text>\n<polyline fill=\"none\" stroke=\"black\" points=\"148,-110.5 148,-146.5 \"/>\n<text text-anchor=\"middle\" x=\"203.5\" y=\"-124.8\" font-family=\"Times,serif\" font-size=\"14.00\">grad=0.0000</text>\n</g>\n<!-- 139800770597312&#45;&gt;139800771595712* -->\n<g id=\"edge12\" class=\"edge\">\n<title>139800770597312&#45;&gt;139800771595712*</title>\n<path fill=\"none\" stroke=\"black\" d=\"M259.02,-128.5C269.57,-128.5 279.57,-128.5 288.46,-128.5\"/>\n<polygon fill=\"black\" stroke=\"black\" points=\"288.7,-132 298.7,-128.5 288.7,-125 288.7,-132\"/>\n</g>\n<!-- 139800770630512 -->\n<g id=\"node9\" class=\"node\">\n<title>139800770630512</title>\n<polygon fill=\"none\" stroke=\"black\" points=\"1239,-54.5 1239,-90.5 1486,-90.5 1486,-54.5 1239,-54.5\"/>\n<text text-anchor=\"middle\" x=\"1252\" y=\"-68.8\" font-family=\"Times,serif\" font-size=\"14.00\">n</text>\n<polyline fill=\"none\" stroke=\"black\" points=\"1265,-54.5 1265,-90.5 \"/>\n<text text-anchor=\"middle\" x=\"1320\" y=\"-68.8\" font-family=\"Times,serif\" font-size=\"14.00\">data=0.8814</text>\n<polyline fill=\"none\" stroke=\"black\" points=\"1375,-54.5 1375,-90.5 \"/>\n<text text-anchor=\"middle\" x=\"1430.5\" y=\"-68.8\" font-family=\"Times,serif\" font-size=\"14.00\">grad=0.5000</text>\n</g>\n<!-- 139800770630608tanh -->\n<g id=\"node15\" class=\"node\">\n<title>139800770630608tanh</title>\n<ellipse fill=\"none\" stroke=\"black\" cx=\"1553.85\" cy=\"-72.5\" rx=\"31.7\" ry=\"18\"/>\n<text text-anchor=\"middle\" x=\"1553.85\" y=\"-68.8\" font-family=\"Times,serif\" font-size=\"14.00\">tanh</text>\n</g>\n<!-- 139800770630512&#45;&gt;139800770630608tanh -->\n<g id=\"edge14\" class=\"edge\">\n<title>139800770630512&#45;&gt;139800770630608tanh</title>\n<path fill=\"none\" stroke=\"black\" d=\"M1486.09,-72.5C1495.08,-72.5 1503.71,-72.5 1511.6,-72.5\"/>\n<polygon fill=\"black\" stroke=\"black\" points=\"1511.87,-76 1521.87,-72.5 1511.87,-69 1511.87,-76\"/>\n</g>\n<!-- 139800770630512+&#45;&gt;139800770630512 -->\n<g id=\"edge3\" class=\"edge\">\n<title>139800770630512+&#45;&gt;139800770630512</title>\n<path fill=\"none\" stroke=\"black\" d=\"M1203.04,-72.5C1210.56,-72.5 1219.32,-72.5 1228.79,-72.5\"/>\n<polygon fill=\"black\" stroke=\"black\" points=\"1228.89,-76 1238.89,-72.5 1228.89,-69 1228.89,-76\"/>\n</g>\n<!-- 139800772164528 -->\n<g id=\"node11\" class=\"node\">\n<title>139800772164528</title>\n<polygon fill=\"none\" stroke=\"black\" points=\"2,-0.5 2,-36.5 261,-36.5 261,-0.5 2,-0.5\"/>\n<text text-anchor=\"middle\" x=\"21\" y=\"-14.8\" font-family=\"Times,serif\" font-size=\"14.00\">w2</text>\n<polyline fill=\"none\" stroke=\"black\" points=\"40,-0.5 40,-36.5 \"/>\n<text text-anchor=\"middle\" x=\"95\" y=\"-14.8\" font-family=\"Times,serif\" font-size=\"14.00\">data=1.0000</text>\n<polyline fill=\"none\" stroke=\"black\" points=\"150,-0.5 150,-36.5 \"/>\n<text text-anchor=\"middle\" x=\"205.5\" y=\"-14.8\" font-family=\"Times,serif\" font-size=\"14.00\">grad=0.0000</text>\n</g>\n<!-- 139800772164528&#45;&gt;139800771593168* -->\n<g id=\"edge9\" class=\"edge\">\n<title>139800772164528&#45;&gt;139800771593168*</title>\n<path fill=\"none\" stroke=\"black\" d=\"M227.53,-36.56C239.57,-39.53 251.64,-42.85 263,-46.5 273.48,-49.87 284.6,-54.39 294.48,-58.77\"/>\n<polygon fill=\"black\" stroke=\"black\" points=\"293.33,-62.09 303.89,-63.05 296.24,-55.72 293.33,-62.09\"/>\n</g>\n<!-- 139800771595712 -->\n<g id=\"node12\" class=\"node\">\n<title>139800771595712</title>\n<polygon fill=\"none\" stroke=\"black\" points=\"389,-110.5 389,-146.5 669,-146.5 669,-110.5 389,-110.5\"/>\n<text text-anchor=\"middle\" x=\"416.5\" y=\"-124.8\" font-family=\"Times,serif\" font-size=\"14.00\">x1w1</text>\n<polyline fill=\"none\" stroke=\"black\" points=\"444,-110.5 444,-146.5 \"/>\n<text text-anchor=\"middle\" x=\"501\" y=\"-124.8\" font-family=\"Times,serif\" font-size=\"14.00\">data=&#45;6.0000</text>\n<polyline fill=\"none\" stroke=\"black\" points=\"558,-110.5 558,-146.5 \"/>\n<text text-anchor=\"middle\" x=\"613.5\" y=\"-124.8\" font-family=\"Times,serif\" font-size=\"14.00\">grad=0.0000</text>\n</g>\n<!-- 139800771595712&#45;&gt;139800770630752+ -->\n<g id=\"edge7\" class=\"edge\">\n<title>139800771595712&#45;&gt;139800770630752+</title>\n<path fill=\"none\" stroke=\"black\" d=\"M659.29,-110.49C672.32,-108.67 684.64,-106.96 695.28,-105.48\"/>\n<polygon fill=\"black\" stroke=\"black\" points=\"695.9,-108.92 705.32,-104.08 694.93,-101.99 695.9,-108.92\"/>\n</g>\n<!-- 139800771595712*&#45;&gt;139800771595712 -->\n<g id=\"edge4\" class=\"edge\">\n<title>139800771595712*&#45;&gt;139800771595712</title>\n<path fill=\"none\" stroke=\"black\" d=\"M353.28,-128.5C360.7,-128.5 369.35,-128.5 378.74,-128.5\"/>\n<polygon fill=\"black\" stroke=\"black\" points=\"378.78,-132 388.78,-128.5 378.78,-125 378.78,-132\"/>\n</g>\n<!-- 139800770630608 -->\n<g id=\"node14\" class=\"node\">\n<title>139800770630608</title>\n<polygon fill=\"none\" stroke=\"black\" points=\"1621.69,-54.5 1621.69,-90.5 1872.69,-90.5 1872.69,-54.5 1621.69,-54.5\"/>\n<text text-anchor=\"middle\" x=\"1636.69\" y=\"-68.8\" font-family=\"Times,serif\" font-size=\"14.00\">m</text>\n<polyline fill=\"none\" stroke=\"black\" points=\"1651.69,-54.5 1651.69,-90.5 \"/>\n<text text-anchor=\"middle\" x=\"1706.69\" y=\"-68.8\" font-family=\"Times,serif\" font-size=\"14.00\">data=0.7071</text>\n<polyline fill=\"none\" stroke=\"black\" points=\"1761.69,-54.5 1761.69,-90.5 \"/>\n<text text-anchor=\"middle\" x=\"1817.19\" y=\"-68.8\" font-family=\"Times,serif\" font-size=\"14.00\">grad=1.0000</text>\n</g>\n<!-- 139800770630608tanh&#45;&gt;139800770630608 -->\n<g id=\"edge5\" class=\"edge\">\n<title>139800770630608tanh&#45;&gt;139800770630608</title>\n<path fill=\"none\" stroke=\"black\" d=\"M1586.02,-72.5C1593.56,-72.5 1602.11,-72.5 1611.23,-72.5\"/>\n<polygon fill=\"black\" stroke=\"black\" points=\"1611.33,-76 1621.33,-72.5 1611.33,-69 1611.33,-76\"/>\n</g>\n</g>\n</svg>\n",
      "text/plain": [
       "<graphviz.graphs.Digraph at 0x7f25e75a94f0>"
      ]
     },
     "execution_count": 89,
     "metadata": {},
     "output_type": "execute_result"
    }
   ],
   "source": [
    "draw_dot(m)"
   ]
  },
  {
   "cell_type": "code",
   "execution_count": null,
   "id": "f3962881",
   "metadata": {},
   "outputs": [],
   "source": []
  },
  {
   "cell_type": "code",
   "execution_count": 88,
   "id": "b5cfe755",
   "metadata": {},
   "outputs": [],
   "source": [
    "b.grad = n.grad\n",
    "x1w1x2w2.grad = n.grad"
   ]
  },
  {
   "cell_type": "code",
   "execution_count": null,
   "id": "55db0232",
   "metadata": {},
   "outputs": [],
   "source": [
    "# n.grad = 1 - tanh(n)**2\n",
    "n.grad = 1 - m.val ** 2"
   ]
  },
  {
   "cell_type": "code",
   "execution_count": 85,
   "id": "1514c006",
   "metadata": {},
   "outputs": [],
   "source": [
    "m.grad = 1.0"
   ]
  }
 ],
 "metadata": {
  "kernelspec": {
   "display_name": "Python 3.9.13 ('pytorch')",
   "language": "python",
   "name": "python3"
  },
  "language_info": {
   "codemirror_mode": {
    "name": "ipython",
    "version": 3
   },
   "file_extension": ".py",
   "mimetype": "text/x-python",
   "name": "python",
   "nbconvert_exporter": "python",
   "pygments_lexer": "ipython3",
   "version": "3.9.13"
  },
  "vscode": {
   "interpreter": {
    "hash": "f3ccde38f660dacc8f821cb3ef018a1382a7800f1b085e490b847304baeb57a9"
   }
  }
 },
 "nbformat": 4,
 "nbformat_minor": 5
}
