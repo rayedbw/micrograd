{
 "cells": [
  {
   "cell_type": "code",
   "execution_count": 23,
   "id": "81f93806",
   "metadata": {},
   "outputs": [],
   "source": [
    "import math\n",
    "import numpy as np\n",
    "import matplotlib.pyplot as plt\n",
    "\n",
    "%matplotlib inline"
   ]
  },
  {
   "cell_type": "code",
   "execution_count": 24,
   "id": "fda4aa2b",
   "metadata": {},
   "outputs": [],
   "source": [
    "from graphviz import Digraph\n",
    "\n",
    "def draw_dot(root):\n",
    "    def trace(root):\n",
    "        # builds a set of all nodes and edges in a graph\n",
    "        nodes, edges = set(), set()\n",
    "\n",
    "        def build(root):\n",
    "            if root not in nodes:\n",
    "                nodes.add(root)\n",
    "                for child in root.prev:\n",
    "                    edges.add((child, root))\n",
    "                    build(child)\n",
    "\n",
    "        build(root)\n",
    "        return nodes, edges\n",
    "\n",
    "    dot = Digraph(graph_attr={'rankdir': 'LR'}, format='svg')\n",
    "\n",
    "    nodes, edges = trace(root)\n",
    "    for node in nodes:\n",
    "        uid = str(id(node))\n",
    "        # for any value in the graph, create a rectangular ('record') node for it\n",
    "        dot.node(name=uid,\n",
    "                 label=\"{ %s | data=%0.4f | grad=%0.4f}\" % (\n",
    "                     node.name, node.val, node.grad),\n",
    "                 shape='record')\n",
    "\n",
    "        if node.op:\n",
    "            # if this value is a result of some operation, create an op node for it\n",
    "            dot.node(name=uid + node.op, label=node.op)\n",
    "            # and connect this node to it\n",
    "            dot.edge(uid + node.op, uid)\n",
    "\n",
    "    for n1, n2 in edges:\n",
    "        # connect n1 to the op node of n2\n",
    "        dot.edge(str(id(n1)), str(id(n2)) + n2.op)\n",
    "\n",
    "    return dot\n"
   ]
  },
  {
   "cell_type": "code",
   "execution_count": 25,
   "id": "c4282b12",
   "metadata": {},
   "outputs": [],
   "source": [
    "from __future__ import annotations\n",
    "from cmath import isfinite\n",
    "from typing import List, Union\n",
    "import uuid\n",
    "\n",
    "\n",
    "class Scalar:\n",
    "    def __init__(self,\n",
    "                 val: Union[float, int],\n",
    "                 name: str = '',\n",
    "                 prev: tuple[Scalar] = (),\n",
    "                 op: str = '') -> None:\n",
    "\n",
    "        assert isinstance(\n",
    "            val, (float, int)), \"val must be a float or an integer\"\n",
    "\n",
    "        self.val = val\n",
    "        self.name = name\n",
    "        self.prev = set(prev)\n",
    "        self.op = op\n",
    "        self.grad = 0.0\n",
    "        self._backward = lambda: None\n",
    "\n",
    "    def exp(self) -> Scalar:\n",
    "        x = self.val\n",
    "        output = Scalar(math.exp(x), prev=(self, ), op='exp')\n",
    "        \n",
    "        def _backward():\n",
    "            self.grad += output.val * output.grad\n",
    "        output._backward = _backward\n",
    "\n",
    "        return output\n",
    "\n",
    "    def tanh(self) -> Scalar:\n",
    "        x = self.val\n",
    "        tanh = (math.exp(2*x) - 1) / (math.exp(2*x) + 1)\n",
    "        output = Scalar(tanh, prev=(self, ), op='tanh')\n",
    "\n",
    "        def _backward():\n",
    "            self.grad += (1.0 - tanh**2) * output.grad\n",
    "        output._backward = _backward \n",
    "\n",
    "        return output \n",
    "\n",
    "    def backward(self) -> None:\n",
    "        topo = []\n",
    "        visited = set()\n",
    "\n",
    "        def build_topo(v):\n",
    "            if v not in visited:\n",
    "                visited.add(v)\n",
    "                for child in v.prev:\n",
    "                    build_topo(child)\n",
    "                topo.append(v)\n",
    "        build_topo(self)\n",
    "\n",
    "        self.grad = 1.0\n",
    "        for node in reversed(topo):\n",
    "            node._backward()\n",
    "\n",
    "    def __add__(self, other) -> Scalar:\n",
    "        other = other if isinstance(other, Scalar) else Scalar(other)\n",
    "        output = Scalar(self.val + other.val, prev=(self, other), op='+')\n",
    "\n",
    "        def _backward():\n",
    "            self.grad += 1.0 * output.grad\n",
    "            other.grad += 1.0 * output.grad\n",
    "        output._backward = _backward \n",
    "\n",
    "        return output\n",
    "\n",
    "    def __mul__(self, other) -> Scalar:\n",
    "        other = other if isinstance(other, Scalar) else Scalar(other)\n",
    "        output = Scalar(self.val * other.val, prev=(self, other), op='*')\n",
    "\n",
    "        def _backward():\n",
    "            self.grad += other.val * output.grad\n",
    "            other.grad += self.val * output.grad\n",
    "        output._backward = _backward \n",
    "\n",
    "        return output \n",
    "\n",
    "    def __radd__(self, other) -> Scalar:\n",
    "        return self + other\n",
    "\n",
    "    def __rmul__(self, other) -> Scalar:\n",
    "        return self * other\n",
    "\n",
    "    def __neg__(self) -> Scalar:\n",
    "        return self * -1\n",
    "\n",
    "    def __sub__(self, other) -> Scalar:\n",
    "        return self + (-other)\n",
    "\n",
    "    def __rsub__(self, other) -> Scalar:\n",
    "        return other + (-self)\n",
    "\n",
    "    def __pow__(self, other) -> Scalar:\n",
    "        assert isinstance(\n",
    "            other, (float, int)), 'class Scalar can only be raised by the power of an integer or a float'\n",
    "        \n",
    "        output = Scalar(self.val ** other, prev=(self, ), op=f'**{other}')\n",
    "\n",
    "        def _backward():\n",
    "            self.grad += other * self.val ** (other - 1) * output.grad\n",
    "        output._backward = _backward\n",
    "\n",
    "        return output \n",
    "\n",
    "    def __truediv__(self, other) -> Scalar:\n",
    "        return self * other ** -1\n",
    "\n",
    "    def __rtruediv__(self, other) -> Scalar:\n",
    "        return other * self ** -1\n",
    "\n",
    "    def __repr__(self) -> str:\n",
    "        return f'Scalar(val={self.val:0.4f}, grad={self.grad:0.4f})'\n"
   ]
  },
  {
   "cell_type": "code",
   "execution_count": 26,
   "id": "85c311d6",
   "metadata": {},
   "outputs": [
    {
     "data": {
      "image/svg+xml": "<?xml version=\"1.0\" encoding=\"UTF-8\" standalone=\"no\"?>\n<!DOCTYPE svg PUBLIC \"-//W3C//DTD SVG 1.1//EN\"\n \"http://www.w3.org/Graphics/SVG/1.1/DTD/svg11.dtd\">\n<!-- Generated by graphviz version 2.50.0 (0)\n -->\n<!-- Pages: 1 -->\n<svg width=\"1881pt\" height=\"210pt\"\n viewBox=\"0.00 0.00 1880.69 210.00\" xmlns=\"http://www.w3.org/2000/svg\" xmlns:xlink=\"http://www.w3.org/1999/xlink\">\n<g id=\"graph0\" class=\"graph\" transform=\"scale(1 1) rotate(0) translate(4 206)\">\n<polygon fill=\"white\" stroke=\"transparent\" points=\"-4,4 -4,-206 1876.69,-206 1876.69,4 -4,4\"/>\n<!-- 139784280401424 -->\n<g id=\"node1\" class=\"node\">\n<title>139784280401424</title>\n<polygon fill=\"none\" stroke=\"black\" points=\"0,-165.5 0,-201.5 263,-201.5 263,-165.5 0,-165.5\"/>\n<text text-anchor=\"middle\" x=\"19\" y=\"-179.8\" font-family=\"Times,serif\" font-size=\"14.00\">w1</text>\n<polyline fill=\"none\" stroke=\"black\" points=\"38,-165.5 38,-201.5 \"/>\n<text text-anchor=\"middle\" x=\"95\" y=\"-179.8\" font-family=\"Times,serif\" font-size=\"14.00\">data=&#45;3.0000</text>\n<polyline fill=\"none\" stroke=\"black\" points=\"152,-165.5 152,-201.5 \"/>\n<text text-anchor=\"middle\" x=\"207.5\" y=\"-179.8\" font-family=\"Times,serif\" font-size=\"14.00\">grad=1.0000</text>\n</g>\n<!-- 139783482836208* -->\n<g id=\"node7\" class=\"node\">\n<title>139783482836208*</title>\n<ellipse fill=\"none\" stroke=\"black\" cx=\"326\" cy=\"-128.5\" rx=\"27\" ry=\"18\"/>\n<text text-anchor=\"middle\" x=\"326\" y=\"-124.8\" font-family=\"Times,serif\" font-size=\"14.00\">*</text>\n</g>\n<!-- 139784280401424&#45;&gt;139783482836208* -->\n<g id=\"edge8\" class=\"edge\">\n<title>139784280401424&#45;&gt;139783482836208*</title>\n<path fill=\"none\" stroke=\"black\" d=\"M231.44,-165.44C242.18,-162.77 252.88,-159.79 263,-156.5 273.73,-153.02 285.08,-148.24 295.09,-143.61\"/>\n<polygon fill=\"black\" stroke=\"black\" points=\"296.69,-146.72 304.22,-139.27 293.69,-140.4 296.69,-146.72\"/>\n</g>\n<!-- 139784280401568 -->\n<g id=\"node2\" class=\"node\">\n<title>139784280401568</title>\n<polygon fill=\"none\" stroke=\"black\" points=\"2,-55.5 2,-91.5 261,-91.5 261,-55.5 2,-55.5\"/>\n<text text-anchor=\"middle\" x=\"21\" y=\"-69.8\" font-family=\"Times,serif\" font-size=\"14.00\">w2</text>\n<polyline fill=\"none\" stroke=\"black\" points=\"40,-55.5 40,-91.5 \"/>\n<text text-anchor=\"middle\" x=\"95\" y=\"-69.8\" font-family=\"Times,serif\" font-size=\"14.00\">data=1.0000</text>\n<polyline fill=\"none\" stroke=\"black\" points=\"150,-55.5 150,-91.5 \"/>\n<text text-anchor=\"middle\" x=\"205.5\" y=\"-69.8\" font-family=\"Times,serif\" font-size=\"14.00\">grad=0.0000</text>\n</g>\n<!-- 139783482837168* -->\n<g id=\"node4\" class=\"node\">\n<title>139783482837168*</title>\n<ellipse fill=\"none\" stroke=\"black\" cx=\"326\" cy=\"-73.5\" rx=\"27\" ry=\"18\"/>\n<text text-anchor=\"middle\" x=\"326\" y=\"-69.8\" font-family=\"Times,serif\" font-size=\"14.00\">*</text>\n</g>\n<!-- 139784280401568&#45;&gt;139783482837168* -->\n<g id=\"edge12\" class=\"edge\">\n<title>139784280401568&#45;&gt;139783482837168*</title>\n<path fill=\"none\" stroke=\"black\" d=\"M261.17,-73.5C270.92,-73.5 280.16,-73.5 288.44,-73.5\"/>\n<polygon fill=\"black\" stroke=\"black\" points=\"288.71,-77 298.71,-73.5 288.71,-70 288.71,-77\"/>\n</g>\n<!-- 139783482837168 -->\n<g id=\"node3\" class=\"node\">\n<title>139783482837168</title>\n<polygon fill=\"none\" stroke=\"black\" points=\"391,-55.5 391,-91.5 667,-91.5 667,-55.5 391,-55.5\"/>\n<text text-anchor=\"middle\" x=\"418.5\" y=\"-69.8\" font-family=\"Times,serif\" font-size=\"14.00\">x2w2</text>\n<polyline fill=\"none\" stroke=\"black\" points=\"446,-55.5 446,-91.5 \"/>\n<text text-anchor=\"middle\" x=\"501\" y=\"-69.8\" font-family=\"Times,serif\" font-size=\"14.00\">data=0.0000</text>\n<polyline fill=\"none\" stroke=\"black\" points=\"556,-55.5 556,-91.5 \"/>\n<text text-anchor=\"middle\" x=\"611.5\" y=\"-69.8\" font-family=\"Times,serif\" font-size=\"14.00\">grad=0.5000</text>\n</g>\n<!-- 139783482835824+ -->\n<g id=\"node14\" class=\"node\">\n<title>139783482835824+</title>\n<ellipse fill=\"none\" stroke=\"black\" cx=\"732\" cy=\"-100.5\" rx=\"27\" ry=\"18\"/>\n<text text-anchor=\"middle\" x=\"732\" y=\"-96.8\" font-family=\"Times,serif\" font-size=\"14.00\">+</text>\n</g>\n<!-- 139783482837168&#45;&gt;139783482835824+ -->\n<g id=\"edge7\" class=\"edge\">\n<title>139783482837168&#45;&gt;139783482835824+</title>\n<path fill=\"none\" stroke=\"black\" d=\"M664.07,-91.51C675.37,-93.03 686.03,-94.46 695.39,-95.72\"/>\n<polygon fill=\"black\" stroke=\"black\" points=\"694.97,-99.19 705.35,-97.05 695.91,-92.25 694.97,-99.19\"/>\n</g>\n<!-- 139783482837168*&#45;&gt;139783482837168 -->\n<g id=\"edge1\" class=\"edge\">\n<title>139783482837168*&#45;&gt;139783482837168</title>\n<path fill=\"none\" stroke=\"black\" d=\"M353.28,-73.5C361.26,-73.5 370.66,-73.5 380.88,-73.5\"/>\n<polygon fill=\"black\" stroke=\"black\" points=\"380.91,-77 390.91,-73.5 380.91,-70 380.91,-77\"/>\n</g>\n<!-- 139784280403632 -->\n<g id=\"node5\" class=\"node\">\n<title>139784280403632</title>\n<polygon fill=\"none\" stroke=\"black\" points=\"830.5,-27.5 830.5,-63.5 1077.5,-63.5 1077.5,-27.5 830.5,-27.5\"/>\n<text text-anchor=\"middle\" x=\"843.5\" y=\"-41.8\" font-family=\"Times,serif\" font-size=\"14.00\">b</text>\n<polyline fill=\"none\" stroke=\"black\" points=\"856.5,-27.5 856.5,-63.5 \"/>\n<text text-anchor=\"middle\" x=\"911.5\" y=\"-41.8\" font-family=\"Times,serif\" font-size=\"14.00\">data=6.8814</text>\n<polyline fill=\"none\" stroke=\"black\" points=\"966.5,-27.5 966.5,-63.5 \"/>\n<text text-anchor=\"middle\" x=\"1022\" y=\"-41.8\" font-family=\"Times,serif\" font-size=\"14.00\">grad=0.5000</text>\n</g>\n<!-- 139783482838848+ -->\n<g id=\"node12\" class=\"node\">\n<title>139783482838848+</title>\n<ellipse fill=\"none\" stroke=\"black\" cx=\"1176\" cy=\"-72.5\" rx=\"27\" ry=\"18\"/>\n<text text-anchor=\"middle\" x=\"1176\" y=\"-68.8\" font-family=\"Times,serif\" font-size=\"14.00\">+</text>\n</g>\n<!-- 139784280403632&#45;&gt;139783482838848+ -->\n<g id=\"edge14\" class=\"edge\">\n<title>139784280403632&#45;&gt;139783482838848+</title>\n<path fill=\"none\" stroke=\"black\" d=\"M1077.54,-60.54C1100.09,-63.31 1121.93,-65.99 1139.2,-68.11\"/>\n<polygon fill=\"black\" stroke=\"black\" points=\"1138.98,-71.61 1149.33,-69.35 1139.83,-64.66 1138.98,-71.61\"/>\n</g>\n<!-- 139783482836208 -->\n<g id=\"node6\" class=\"node\">\n<title>139783482836208</title>\n<polygon fill=\"none\" stroke=\"black\" points=\"389,-110.5 389,-146.5 669,-146.5 669,-110.5 389,-110.5\"/>\n<text text-anchor=\"middle\" x=\"416.5\" y=\"-124.8\" font-family=\"Times,serif\" font-size=\"14.00\">x1w1</text>\n<polyline fill=\"none\" stroke=\"black\" points=\"444,-110.5 444,-146.5 \"/>\n<text text-anchor=\"middle\" x=\"501\" y=\"-124.8\" font-family=\"Times,serif\" font-size=\"14.00\">data=&#45;6.0000</text>\n<polyline fill=\"none\" stroke=\"black\" points=\"558,-110.5 558,-146.5 \"/>\n<text text-anchor=\"middle\" x=\"613.5\" y=\"-124.8\" font-family=\"Times,serif\" font-size=\"14.00\">grad=0.5000</text>\n</g>\n<!-- 139783482836208&#45;&gt;139783482835824+ -->\n<g id=\"edge6\" class=\"edge\">\n<title>139783482836208&#45;&gt;139783482835824+</title>\n<path fill=\"none\" stroke=\"black\" d=\"M659.29,-110.49C672.32,-108.67 684.64,-106.96 695.28,-105.48\"/>\n<polygon fill=\"black\" stroke=\"black\" points=\"695.9,-108.92 705.32,-104.08 694.93,-101.99 695.9,-108.92\"/>\n</g>\n<!-- 139783482836208*&#45;&gt;139783482836208 -->\n<g id=\"edge2\" class=\"edge\">\n<title>139783482836208*&#45;&gt;139783482836208</title>\n<path fill=\"none\" stroke=\"black\" d=\"M353.28,-128.5C360.7,-128.5 369.35,-128.5 378.74,-128.5\"/>\n<polygon fill=\"black\" stroke=\"black\" points=\"378.78,-132 388.78,-128.5 378.78,-125 378.78,-132\"/>\n</g>\n<!-- 139784280401664 -->\n<g id=\"node8\" class=\"node\">\n<title>139784280401664</title>\n<polygon fill=\"none\" stroke=\"black\" points=\"1.5,-110.5 1.5,-146.5 261.5,-146.5 261.5,-110.5 1.5,-110.5\"/>\n<text text-anchor=\"middle\" x=\"18.5\" y=\"-124.8\" font-family=\"Times,serif\" font-size=\"14.00\">x1</text>\n<polyline fill=\"none\" stroke=\"black\" points=\"35.5,-110.5 35.5,-146.5 \"/>\n<text text-anchor=\"middle\" x=\"90.5\" y=\"-124.8\" font-family=\"Times,serif\" font-size=\"14.00\">data=2.0000</text>\n<polyline fill=\"none\" stroke=\"black\" points=\"145.5,-110.5 145.5,-146.5 \"/>\n<text text-anchor=\"middle\" x=\"203.5\" y=\"-124.8\" font-family=\"Times,serif\" font-size=\"14.00\">grad=&#45;1.5000</text>\n</g>\n<!-- 139784280401664&#45;&gt;139783482836208* -->\n<g id=\"edge10\" class=\"edge\">\n<title>139784280401664&#45;&gt;139783482836208*</title>\n<path fill=\"none\" stroke=\"black\" d=\"M261.7,-128.5C271.38,-128.5 280.56,-128.5 288.76,-128.5\"/>\n<polygon fill=\"black\" stroke=\"black\" points=\"288.96,-132 298.96,-128.5 288.96,-125 288.96,-132\"/>\n</g>\n<!-- 139783482837264 -->\n<g id=\"node9\" class=\"node\">\n<title>139783482837264</title>\n<polygon fill=\"none\" stroke=\"black\" points=\"1621.69,-54.5 1621.69,-90.5 1872.69,-90.5 1872.69,-54.5 1621.69,-54.5\"/>\n<text text-anchor=\"middle\" x=\"1636.69\" y=\"-68.8\" font-family=\"Times,serif\" font-size=\"14.00\">m</text>\n<polyline fill=\"none\" stroke=\"black\" points=\"1651.69,-54.5 1651.69,-90.5 \"/>\n<text text-anchor=\"middle\" x=\"1706.69\" y=\"-68.8\" font-family=\"Times,serif\" font-size=\"14.00\">data=0.7071</text>\n<polyline fill=\"none\" stroke=\"black\" points=\"1761.69,-54.5 1761.69,-90.5 \"/>\n<text text-anchor=\"middle\" x=\"1817.19\" y=\"-68.8\" font-family=\"Times,serif\" font-size=\"14.00\">grad=1.0000</text>\n</g>\n<!-- 139783482837264tanh -->\n<g id=\"node10\" class=\"node\">\n<title>139783482837264tanh</title>\n<ellipse fill=\"none\" stroke=\"black\" cx=\"1553.85\" cy=\"-72.5\" rx=\"31.7\" ry=\"18\"/>\n<text text-anchor=\"middle\" x=\"1553.85\" y=\"-68.8\" font-family=\"Times,serif\" font-size=\"14.00\">tanh</text>\n</g>\n<!-- 139783482837264tanh&#45;&gt;139783482837264 -->\n<g id=\"edge3\" class=\"edge\">\n<title>139783482837264tanh&#45;&gt;139783482837264</title>\n<path fill=\"none\" stroke=\"black\" d=\"M1586.02,-72.5C1593.56,-72.5 1602.11,-72.5 1611.23,-72.5\"/>\n<polygon fill=\"black\" stroke=\"black\" points=\"1611.33,-76 1621.33,-72.5 1611.33,-69 1611.33,-76\"/>\n</g>\n<!-- 139783482838848 -->\n<g id=\"node11\" class=\"node\">\n<title>139783482838848</title>\n<polygon fill=\"none\" stroke=\"black\" points=\"1239,-54.5 1239,-90.5 1486,-90.5 1486,-54.5 1239,-54.5\"/>\n<text text-anchor=\"middle\" x=\"1252\" y=\"-68.8\" font-family=\"Times,serif\" font-size=\"14.00\">n</text>\n<polyline fill=\"none\" stroke=\"black\" points=\"1265,-54.5 1265,-90.5 \"/>\n<text text-anchor=\"middle\" x=\"1320\" y=\"-68.8\" font-family=\"Times,serif\" font-size=\"14.00\">data=0.8814</text>\n<polyline fill=\"none\" stroke=\"black\" points=\"1375,-54.5 1375,-90.5 \"/>\n<text text-anchor=\"middle\" x=\"1430.5\" y=\"-68.8\" font-family=\"Times,serif\" font-size=\"14.00\">grad=0.5000</text>\n</g>\n<!-- 139783482838848&#45;&gt;139783482837264tanh -->\n<g id=\"edge13\" class=\"edge\">\n<title>139783482838848&#45;&gt;139783482837264tanh</title>\n<path fill=\"none\" stroke=\"black\" d=\"M1486.09,-72.5C1495.08,-72.5 1503.71,-72.5 1511.6,-72.5\"/>\n<polygon fill=\"black\" stroke=\"black\" points=\"1511.87,-76 1521.87,-72.5 1511.87,-69 1511.87,-76\"/>\n</g>\n<!-- 139783482838848+&#45;&gt;139783482838848 -->\n<g id=\"edge4\" class=\"edge\">\n<title>139783482838848+&#45;&gt;139783482838848</title>\n<path fill=\"none\" stroke=\"black\" d=\"M1203.04,-72.5C1210.56,-72.5 1219.32,-72.5 1228.79,-72.5\"/>\n<polygon fill=\"black\" stroke=\"black\" points=\"1228.89,-76 1238.89,-72.5 1228.89,-69 1228.89,-76\"/>\n</g>\n<!-- 139783482835824 -->\n<g id=\"node13\" class=\"node\">\n<title>139783482835824</title>\n<polygon fill=\"none\" stroke=\"black\" points=\"795,-82.5 795,-118.5 1113,-118.5 1113,-82.5 795,-82.5\"/>\n<text text-anchor=\"middle\" x=\"841.5\" y=\"-96.8\" font-family=\"Times,serif\" font-size=\"14.00\">x1w1x2w2</text>\n<polyline fill=\"none\" stroke=\"black\" points=\"888,-82.5 888,-118.5 \"/>\n<text text-anchor=\"middle\" x=\"945\" y=\"-96.8\" font-family=\"Times,serif\" font-size=\"14.00\">data=&#45;6.0000</text>\n<polyline fill=\"none\" stroke=\"black\" points=\"1002,-82.5 1002,-118.5 \"/>\n<text text-anchor=\"middle\" x=\"1057.5\" y=\"-96.8\" font-family=\"Times,serif\" font-size=\"14.00\">grad=0.5000</text>\n</g>\n<!-- 139783482835824&#45;&gt;139783482838848+ -->\n<g id=\"edge9\" class=\"edge\">\n<title>139783482835824&#45;&gt;139783482838848+</title>\n<path fill=\"none\" stroke=\"black\" d=\"M1096.51,-82.49C1112.12,-80.5 1126.81,-78.63 1139.16,-77.06\"/>\n<polygon fill=\"black\" stroke=\"black\" points=\"1139.9,-80.5 1149.38,-75.76 1139.02,-73.55 1139.9,-80.5\"/>\n</g>\n<!-- 139783482835824+&#45;&gt;139783482835824 -->\n<g id=\"edge5\" class=\"edge\">\n<title>139783482835824+&#45;&gt;139783482835824</title>\n<path fill=\"none\" stroke=\"black\" d=\"M759.1,-100.5C766.53,-100.5 775.23,-100.5 784.74,-100.5\"/>\n<polygon fill=\"black\" stroke=\"black\" points=\"784.92,-104 794.92,-100.5 784.92,-97 784.92,-104\"/>\n</g>\n<!-- 139784481592752 -->\n<g id=\"node15\" class=\"node\">\n<title>139784481592752</title>\n<polygon fill=\"none\" stroke=\"black\" points=\"4,-0.5 4,-36.5 259,-36.5 259,-0.5 4,-0.5\"/>\n<text text-anchor=\"middle\" x=\"21\" y=\"-14.8\" font-family=\"Times,serif\" font-size=\"14.00\">x2</text>\n<polyline fill=\"none\" stroke=\"black\" points=\"38,-0.5 38,-36.5 \"/>\n<text text-anchor=\"middle\" x=\"93\" y=\"-14.8\" font-family=\"Times,serif\" font-size=\"14.00\">data=0.0000</text>\n<polyline fill=\"none\" stroke=\"black\" points=\"148,-0.5 148,-36.5 \"/>\n<text text-anchor=\"middle\" x=\"203.5\" y=\"-14.8\" font-family=\"Times,serif\" font-size=\"14.00\">grad=0.5000</text>\n</g>\n<!-- 139784481592752&#45;&gt;139783482837168* -->\n<g id=\"edge11\" class=\"edge\">\n<title>139784481592752&#45;&gt;139783482837168*</title>\n<path fill=\"none\" stroke=\"black\" d=\"M227.53,-36.56C239.57,-39.53 251.64,-42.85 263,-46.5 273.48,-49.87 284.6,-54.39 294.48,-58.77\"/>\n<polygon fill=\"black\" stroke=\"black\" points=\"293.33,-62.09 303.89,-63.05 296.24,-55.72 293.33,-62.09\"/>\n</g>\n</g>\n</svg>\n",
      "text/plain": [
       "<graphviz.graphs.Digraph at 0x7f221060e760>"
      ]
     },
     "execution_count": 26,
     "metadata": {},
     "output_type": "execute_result"
    }
   ],
   "source": [
    "# inputs x1, x2\n",
    "x1 = Scalar(2.0, name='x1')\n",
    "x2 = Scalar(0.0, name='x2')\n",
    "# weights w1, w2,\n",
    "w1 = Scalar(-3.0, name='w1')\n",
    "w2 = Scalar(1.0, name='w2')\n",
    "# bias\n",
    "b = Scalar(6.8813735, name='b')\n",
    "\n",
    "x1w1 = x1 * w1\n",
    "x1w1.name = 'x1w1'\n",
    "x2w2 = x2 * w2\n",
    "x2w2.name = 'x2w2'\n",
    "x1w1x2w2 = x1w1 + x2w2\n",
    "x1w1x2w2.name = 'x1w1x2w2'\n",
    "n = x1w1x2w2 + b\n",
    "n.name = 'n'\n",
    "m = n.tanh()\n",
    "m.name = 'm'\n",
    "m.backward()\n",
    "draw_dot(m)"
   ]
  },
  {
   "cell_type": "code",
   "execution_count": 27,
   "id": "1d6a2c0b",
   "metadata": {},
   "outputs": [
    {
     "data": {
      "image/svg+xml": "<?xml version=\"1.0\" encoding=\"UTF-8\" standalone=\"no\"?>\n<!DOCTYPE svg PUBLIC \"-//W3C//DTD SVG 1.1//EN\"\n \"http://www.w3.org/Graphics/SVG/1.1/DTD/svg11.dtd\">\n<!-- Generated by graphviz version 2.50.0 (0)\n -->\n<!-- Pages: 1 -->\n<svg width=\"627pt\" height=\"45pt\"\n viewBox=\"0.00 0.00 627.00 45.00\" xmlns=\"http://www.w3.org/2000/svg\" xmlns:xlink=\"http://www.w3.org/1999/xlink\">\n<g id=\"graph0\" class=\"graph\" transform=\"scale(1 1) rotate(0) translate(4 41)\">\n<polygon fill=\"white\" stroke=\"transparent\" points=\"-4,4 -4,-41 623,-41 623,4 -4,4\"/>\n<!-- 139783483570448 -->\n<g id=\"node1\" class=\"node\">\n<title>139783483570448</title>\n<polygon fill=\"none\" stroke=\"black\" points=\"0,-0.5 0,-36.5 246,-36.5 246,-0.5 0,-0.5\"/>\n<text text-anchor=\"middle\" x=\"12.5\" y=\"-14.8\" font-family=\"Times,serif\" font-size=\"14.00\">a</text>\n<polyline fill=\"none\" stroke=\"black\" points=\"25,-0.5 25,-36.5 \"/>\n<text text-anchor=\"middle\" x=\"80\" y=\"-14.8\" font-family=\"Times,serif\" font-size=\"14.00\">data=3.0000</text>\n<polyline fill=\"none\" stroke=\"black\" points=\"135,-0.5 135,-36.5 \"/>\n<text text-anchor=\"middle\" x=\"190.5\" y=\"-14.8\" font-family=\"Times,serif\" font-size=\"14.00\">grad=2.0000</text>\n</g>\n<!-- 139783483572176+ -->\n<g id=\"node3\" class=\"node\">\n<title>139783483572176+</title>\n<ellipse fill=\"none\" stroke=\"black\" cx=\"309\" cy=\"-18.5\" rx=\"27\" ry=\"18\"/>\n<text text-anchor=\"middle\" x=\"309\" y=\"-14.8\" font-family=\"Times,serif\" font-size=\"14.00\">+</text>\n</g>\n<!-- 139783483570448&#45;&gt;139783483572176+ -->\n<g id=\"edge2\" class=\"edge\">\n<title>139783483570448&#45;&gt;139783483572176+</title>\n<path fill=\"none\" stroke=\"black\" d=\"M246.22,-18.5C255.35,-18.5 264.03,-18.5 271.84,-18.5\"/>\n<polygon fill=\"black\" stroke=\"black\" points=\"271.92,-22 281.92,-18.5 271.92,-15 271.92,-22\"/>\n</g>\n<!-- 139783483572176 -->\n<g id=\"node2\" class=\"node\">\n<title>139783483572176</title>\n<polygon fill=\"none\" stroke=\"black\" points=\"372,-0.5 372,-36.5 619,-36.5 619,-0.5 372,-0.5\"/>\n<text text-anchor=\"middle\" x=\"385\" y=\"-14.8\" font-family=\"Times,serif\" font-size=\"14.00\">b</text>\n<polyline fill=\"none\" stroke=\"black\" points=\"398,-0.5 398,-36.5 \"/>\n<text text-anchor=\"middle\" x=\"453\" y=\"-14.8\" font-family=\"Times,serif\" font-size=\"14.00\">data=6.0000</text>\n<polyline fill=\"none\" stroke=\"black\" points=\"508,-0.5 508,-36.5 \"/>\n<text text-anchor=\"middle\" x=\"563.5\" y=\"-14.8\" font-family=\"Times,serif\" font-size=\"14.00\">grad=1.0000</text>\n</g>\n<!-- 139783483572176+&#45;&gt;139783483572176 -->\n<g id=\"edge1\" class=\"edge\">\n<title>139783483572176+&#45;&gt;139783483572176</title>\n<path fill=\"none\" stroke=\"black\" d=\"M336.04,-18.5C343.56,-18.5 352.32,-18.5 361.79,-18.5\"/>\n<polygon fill=\"black\" stroke=\"black\" points=\"361.89,-22 371.89,-18.5 361.89,-15 361.89,-22\"/>\n</g>\n</g>\n</svg>\n",
      "text/plain": [
       "<graphviz.graphs.Digraph at 0x7f21e0e23c70>"
      ]
     },
     "execution_count": 27,
     "metadata": {},
     "output_type": "execute_result"
    }
   ],
   "source": [
    "a = Scalar(3.0, name='a')\n",
    "b = a + a\n",
    "b.name = 'b'\n",
    "b.backward()\n",
    "draw_dot(b)"
   ]
  },
  {
   "cell_type": "code",
   "execution_count": 28,
   "id": "1b7f780a",
   "metadata": {},
   "outputs": [
    {
     "data": {
      "image/svg+xml": "<?xml version=\"1.0\" encoding=\"UTF-8\" standalone=\"no\"?>\n<!DOCTYPE svg PUBLIC \"-//W3C//DTD SVG 1.1//EN\"\n \"http://www.w3.org/Graphics/SVG/1.1/DTD/svg11.dtd\">\n<!-- Generated by graphviz version 2.50.0 (0)\n -->\n<!-- Pages: 1 -->\n<svg width=\"1372pt\" height=\"127pt\"\n viewBox=\"0.00 0.00 1372.00 127.00\" xmlns=\"http://www.w3.org/2000/svg\" xmlns:xlink=\"http://www.w3.org/1999/xlink\">\n<g id=\"graph0\" class=\"graph\" transform=\"scale(1 1) rotate(0) translate(4 123)\">\n<polygon fill=\"white\" stroke=\"transparent\" points=\"-4,4 -4,-123 1368,-123 1368,4 -4,4\"/>\n<!-- 139783482838560 -->\n<g id=\"node1\" class=\"node\">\n<title>139783482838560</title>\n<polygon fill=\"none\" stroke=\"black\" points=\"746,-27.5 746,-63.5 992,-63.5 992,-27.5 746,-27.5\"/>\n<text text-anchor=\"middle\" x=\"756.5\" y=\"-41.8\" font-family=\"Times,serif\" font-size=\"14.00\"> </text>\n<polyline fill=\"none\" stroke=\"black\" points=\"767,-27.5 767,-63.5 \"/>\n<text text-anchor=\"middle\" x=\"824\" y=\"-41.8\" font-family=\"Times,serif\" font-size=\"14.00\">data=&#45;4.0000</text>\n<polyline fill=\"none\" stroke=\"black\" points=\"881,-27.5 881,-63.5 \"/>\n<text text-anchor=\"middle\" x=\"936.5\" y=\"-41.8\" font-family=\"Times,serif\" font-size=\"14.00\">grad=1.0000</text>\n</g>\n<!-- 139783482838896+ -->\n<g id=\"node9\" class=\"node\">\n<title>139783482838896+</title>\n<ellipse fill=\"none\" stroke=\"black\" cx=\"1055\" cy=\"-72.5\" rx=\"27\" ry=\"18\"/>\n<text text-anchor=\"middle\" x=\"1055\" y=\"-68.8\" font-family=\"Times,serif\" font-size=\"14.00\">+</text>\n</g>\n<!-- 139783482838560&#45;&gt;139783482838896+ -->\n<g id=\"edge4\" class=\"edge\">\n<title>139783482838560&#45;&gt;139783482838896+</title>\n<path fill=\"none\" stroke=\"black\" d=\"M992.22,-63.43C1001.63,-64.82 1010.57,-66.13 1018.58,-67.3\"/>\n<polygon fill=\"black\" stroke=\"black\" points=\"1018.13,-70.77 1028.53,-68.76 1019.14,-63.85 1018.13,-70.77\"/>\n</g>\n<!-- 139783482838560* -->\n<g id=\"node2\" class=\"node\">\n<title>139783482838560*</title>\n<ellipse fill=\"none\" stroke=\"black\" cx=\"683\" cy=\"-45.5\" rx=\"27\" ry=\"18\"/>\n<text text-anchor=\"middle\" x=\"683\" y=\"-41.8\" font-family=\"Times,serif\" font-size=\"14.00\">*</text>\n</g>\n<!-- 139783482838560*&#45;&gt;139783482838560 -->\n<g id=\"edge1\" class=\"edge\">\n<title>139783482838560*&#45;&gt;139783482838560</title>\n<path fill=\"none\" stroke=\"black\" d=\"M710.36,-45.5C717.73,-45.5 726.28,-45.5 735.5,-45.5\"/>\n<polygon fill=\"black\" stroke=\"black\" points=\"735.75,-49 745.75,-45.5 735.75,-42 735.75,-49\"/>\n</g>\n<!-- 139783483569776 -->\n<g id=\"node3\" class=\"node\">\n<title>139783483569776</title>\n<polygon fill=\"none\" stroke=\"black\" points=\"748,-82.5 748,-118.5 990,-118.5 990,-82.5 748,-82.5\"/>\n<text text-anchor=\"middle\" x=\"758.5\" y=\"-96.8\" font-family=\"Times,serif\" font-size=\"14.00\"> </text>\n<polyline fill=\"none\" stroke=\"black\" points=\"769,-82.5 769,-118.5 \"/>\n<text text-anchor=\"middle\" x=\"824\" y=\"-96.8\" font-family=\"Times,serif\" font-size=\"14.00\">data=1.0000</text>\n<polyline fill=\"none\" stroke=\"black\" points=\"879,-82.5 879,-118.5 \"/>\n<text text-anchor=\"middle\" x=\"934.5\" y=\"-96.8\" font-family=\"Times,serif\" font-size=\"14.00\">grad=1.0000</text>\n</g>\n<!-- 139783483569776&#45;&gt;139783482838896+ -->\n<g id=\"edge8\" class=\"edge\">\n<title>139783483569776&#45;&gt;139783482838896+</title>\n<path fill=\"none\" stroke=\"black\" d=\"M988.35,-82.49C999.08,-80.86 1009.29,-79.3 1018.32,-77.93\"/>\n<polygon fill=\"black\" stroke=\"black\" points=\"1018.98,-81.37 1028.34,-76.4 1017.93,-74.45 1018.98,-81.37\"/>\n</g>\n<!-- 139783483570880 -->\n<g id=\"node4\" class=\"node\">\n<title>139783483570880</title>\n<polygon fill=\"none\" stroke=\"black\" points=\"373,-55.5 373,-91.5 620,-91.5 620,-55.5 373,-55.5\"/>\n<text text-anchor=\"middle\" x=\"383.5\" y=\"-69.8\" font-family=\"Times,serif\" font-size=\"14.00\"> </text>\n<polyline fill=\"none\" stroke=\"black\" points=\"394,-55.5 394,-91.5 \"/>\n<text text-anchor=\"middle\" x=\"449\" y=\"-69.8\" font-family=\"Times,serif\" font-size=\"14.00\">data=4.0000</text>\n<polyline fill=\"none\" stroke=\"black\" points=\"504,-55.5 504,-91.5 \"/>\n<text text-anchor=\"middle\" x=\"562\" y=\"-69.8\" font-family=\"Times,serif\" font-size=\"14.00\">grad=&#45;1.0000</text>\n</g>\n<!-- 139783483570880&#45;&gt;139783482838560* -->\n<g id=\"edge5\" class=\"edge\">\n<title>139783483570880&#45;&gt;139783482838560*</title>\n<path fill=\"none\" stroke=\"black\" d=\"M616.17,-55.49C627.03,-53.84 637.36,-52.27 646.48,-50.89\"/>\n<polygon fill=\"black\" stroke=\"black\" points=\"647.22,-54.32 656.59,-49.36 646.17,-47.4 647.22,-54.32\"/>\n</g>\n<!-- 139783483570880**2 -->\n<g id=\"node5\" class=\"node\">\n<title>139783483570880**2</title>\n<ellipse fill=\"none\" stroke=\"black\" cx=\"310\" cy=\"-73.5\" rx=\"27\" ry=\"18\"/>\n<text text-anchor=\"middle\" x=\"310\" y=\"-69.8\" font-family=\"Times,serif\" font-size=\"14.00\">**2</text>\n</g>\n<!-- 139783483570880**2&#45;&gt;139783483570880 -->\n<g id=\"edge2\" class=\"edge\">\n<title>139783483570880**2&#45;&gt;139783483570880</title>\n<path fill=\"none\" stroke=\"black\" d=\"M337.04,-73.5C344.56,-73.5 353.32,-73.5 362.79,-73.5\"/>\n<polygon fill=\"black\" stroke=\"black\" points=\"362.89,-77 372.89,-73.5 362.89,-70 362.89,-77\"/>\n</g>\n<!-- 139783482837216 -->\n<g id=\"node6\" class=\"node\">\n<title>139783482837216</title>\n<polygon fill=\"none\" stroke=\"black\" points=\"373.5,-0.5 373.5,-36.5 619.5,-36.5 619.5,-0.5 373.5,-0.5\"/>\n<text text-anchor=\"middle\" x=\"384\" y=\"-14.8\" font-family=\"Times,serif\" font-size=\"14.00\"> </text>\n<polyline fill=\"none\" stroke=\"black\" points=\"394.5,-0.5 394.5,-36.5 \"/>\n<text text-anchor=\"middle\" x=\"451.5\" y=\"-14.8\" font-family=\"Times,serif\" font-size=\"14.00\">data=&#45;1.0000</text>\n<polyline fill=\"none\" stroke=\"black\" points=\"508.5,-0.5 508.5,-36.5 \"/>\n<text text-anchor=\"middle\" x=\"564\" y=\"-14.8\" font-family=\"Times,serif\" font-size=\"14.00\">grad=4.0000</text>\n</g>\n<!-- 139783482837216&#45;&gt;139783482838560* -->\n<g id=\"edge7\" class=\"edge\">\n<title>139783482837216&#45;&gt;139783482838560*</title>\n<path fill=\"none\" stroke=\"black\" d=\"M619.54,-36.36C629.14,-37.76 638.25,-39.1 646.41,-40.29\"/>\n<polygon fill=\"black\" stroke=\"black\" points=\"646.13,-43.79 656.53,-41.77 647.14,-36.86 646.13,-43.79\"/>\n</g>\n<!-- 139783483568912 -->\n<g id=\"node7\" class=\"node\">\n<title>139783483568912</title>\n<polygon fill=\"none\" stroke=\"black\" points=\"0,-55.5 0,-91.5 247,-91.5 247,-55.5 0,-55.5\"/>\n<text text-anchor=\"middle\" x=\"10.5\" y=\"-69.8\" font-family=\"Times,serif\" font-size=\"14.00\"> </text>\n<polyline fill=\"none\" stroke=\"black\" points=\"21,-55.5 21,-91.5 \"/>\n<text text-anchor=\"middle\" x=\"76\" y=\"-69.8\" font-family=\"Times,serif\" font-size=\"14.00\">data=2.0000</text>\n<polyline fill=\"none\" stroke=\"black\" points=\"131,-55.5 131,-91.5 \"/>\n<text text-anchor=\"middle\" x=\"189\" y=\"-69.8\" font-family=\"Times,serif\" font-size=\"14.00\">grad=&#45;4.0000</text>\n</g>\n<!-- 139783483568912&#45;&gt;139783483570880**2 -->\n<g id=\"edge6\" class=\"edge\">\n<title>139783483568912&#45;&gt;139783483570880**2</title>\n<path fill=\"none\" stroke=\"black\" d=\"M247.05,-73.5C256.2,-73.5 264.91,-73.5 272.74,-73.5\"/>\n<polygon fill=\"black\" stroke=\"black\" points=\"272.85,-77 282.85,-73.5 272.85,-70 272.85,-77\"/>\n</g>\n<!-- 139783482838896 -->\n<g id=\"node8\" class=\"node\">\n<title>139783482838896</title>\n<polygon fill=\"none\" stroke=\"black\" points=\"1118,-54.5 1118,-90.5 1364,-90.5 1364,-54.5 1118,-54.5\"/>\n<text text-anchor=\"middle\" x=\"1128.5\" y=\"-68.8\" font-family=\"Times,serif\" font-size=\"14.00\"> </text>\n<polyline fill=\"none\" stroke=\"black\" points=\"1139,-54.5 1139,-90.5 \"/>\n<text text-anchor=\"middle\" x=\"1196\" y=\"-68.8\" font-family=\"Times,serif\" font-size=\"14.00\">data=&#45;3.0000</text>\n<polyline fill=\"none\" stroke=\"black\" points=\"1253,-54.5 1253,-90.5 \"/>\n<text text-anchor=\"middle\" x=\"1308.5\" y=\"-68.8\" font-family=\"Times,serif\" font-size=\"14.00\">grad=1.0000</text>\n</g>\n<!-- 139783482838896+&#45;&gt;139783482838896 -->\n<g id=\"edge3\" class=\"edge\">\n<title>139783482838896+&#45;&gt;139783482838896</title>\n<path fill=\"none\" stroke=\"black\" d=\"M1082.36,-72.5C1089.73,-72.5 1098.28,-72.5 1107.5,-72.5\"/>\n<polygon fill=\"black\" stroke=\"black\" points=\"1107.75,-76 1117.75,-72.5 1107.75,-69 1107.75,-76\"/>\n</g>\n</g>\n</svg>\n",
      "text/plain": [
       "<graphviz.graphs.Digraph at 0x7f21e0d703d0>"
      ]
     },
     "execution_count": 28,
     "metadata": {},
     "output_type": "execute_result"
    }
   ],
   "source": [
    "a = Scalar(1.0)\n",
    "a.exp()\n",
    "b = Scalar(2.0)\n",
    "c = b**2\n",
    "d = a - c\n",
    "d.backward()\n",
    "draw_dot(d)"
   ]
  },
  {
   "cell_type": "code",
   "execution_count": null,
   "id": "78a37edf",
   "metadata": {},
   "outputs": [],
   "source": []
  }
 ],
 "metadata": {
  "kernelspec": {
   "display_name": "Python 3.9.13 ('pytorch')",
   "language": "python",
   "name": "python3"
  },
  "language_info": {
   "codemirror_mode": {
    "name": "ipython",
    "version": 3
   },
   "file_extension": ".py",
   "mimetype": "text/x-python",
   "name": "python",
   "nbconvert_exporter": "python",
   "pygments_lexer": "ipython3",
   "version": "3.9.13"
  },
  "vscode": {
   "interpreter": {
    "hash": "f3ccde38f660dacc8f821cb3ef018a1382a7800f1b085e490b847304baeb57a9"
   }
  }
 },
 "nbformat": 4,
 "nbformat_minor": 5
}
